{
  "nbformat": 4,
  "nbformat_minor": 0,
  "metadata": {
    "colab": {
      "name": "AMC_Stock_Prediction.ipynb",
      "provenance": [],
      "toc_visible": true,
      "authorship_tag": "ABX9TyNlocqFiVg4AXTav1MpZdpw",
      "include_colab_link": true
    },
    "kernelspec": {
      "name": "python3",
      "display_name": "Python 3"
    },
    "language_info": {
      "name": "python"
    },
    "accelerator": "GPU"
  },
  "cells": [
    {
      "cell_type": "markdown",
      "metadata": {
        "id": "view-in-github",
        "colab_type": "text"
      },
      "source": [
        "<a href=\"https://colab.research.google.com/github/rahuld11/ANN_with_TensorFlow/blob/master/AMC_Stock_Prediction.ipynb\" target=\"_parent\"><img src=\"https://colab.research.google.com/assets/colab-badge.svg\" alt=\"Open In Colab\"/></a>"
      ]
    },
    {
      "cell_type": "code",
      "metadata": {
        "id": "Dvs_oNXZpJCJ"
      },
      "source": [
        "import pandas as pd\n",
        "import numpy as np\n",
        "### Data Collection\n",
        "import pandas_datareader as pdr"
      ],
      "execution_count": 12,
      "outputs": []
    },
    {
      "cell_type": "code",
      "metadata": {
        "id": "ArjN2yZ6pWCG"
      },
      "source": [
        "key=\"dbd26edab2a6aa9d4c2e914011bbf521157c355d\" ##Tiingo keys"
      ],
      "execution_count": 13,
      "outputs": []
    },
    {
      "cell_type": "code",
      "metadata": {
        "id": "L-zY3XDRpdUg"
      },
      "source": [
        "df = pdr.get_data_tiingo('AMC', api_key=key)"
      ],
      "execution_count": 14,
      "outputs": []
    },
    {
      "cell_type": "code",
      "metadata": {
        "id": "gp5dpO4up0nE"
      },
      "source": [
        "df.to_csv('AMC.csv')"
      ],
      "execution_count": 15,
      "outputs": []
    },
    {
      "cell_type": "code",
      "metadata": {
        "id": "juvH6vQ9p45r"
      },
      "source": [
        "import pandas as pd\n",
        "from matplotlib import pyplot as plt"
      ],
      "execution_count": 16,
      "outputs": []
    },
    {
      "cell_type": "code",
      "metadata": {
        "id": "ekeKIIBqp_Gy"
      },
      "source": [
        "#@title Default title text\n",
        "df=pd.read_csv('AMC.csv')"
      ],
      "execution_count": 17,
      "outputs": []
    },
    {
      "cell_type": "code",
      "metadata": {
        "colab": {
          "base_uri": "https://localhost:8080/"
        },
        "id": "wGpdV-afry7F",
        "outputId": "c129bb05-7395-4b0d-ed84-f4cec2b7cb08"
      },
      "source": [
        "df.shape"
      ],
      "execution_count": 18,
      "outputs": [
        {
          "output_type": "execute_result",
          "data": {
            "text/plain": [
              "(1257, 14)"
            ]
          },
          "metadata": {
            "tags": []
          },
          "execution_count": 18
        }
      ]
    },
    {
      "cell_type": "code",
      "metadata": {
        "colab": {
          "base_uri": "https://localhost:8080/",
          "height": 285
        },
        "id": "FV-zYdX4qCpd",
        "outputId": "99d67c9b-c090-4f0d-e209-6708326acc06"
      },
      "source": [
        "df.head()"
      ],
      "execution_count": 19,
      "outputs": [
        {
          "output_type": "execute_result",
          "data": {
            "text/html": [
              "<div>\n",
              "<style scoped>\n",
              "    .dataframe tbody tr th:only-of-type {\n",
              "        vertical-align: middle;\n",
              "    }\n",
              "\n",
              "    .dataframe tbody tr th {\n",
              "        vertical-align: top;\n",
              "    }\n",
              "\n",
              "    .dataframe thead th {\n",
              "        text-align: right;\n",
              "    }\n",
              "</style>\n",
              "<table border=\"1\" class=\"dataframe\">\n",
              "  <thead>\n",
              "    <tr style=\"text-align: right;\">\n",
              "      <th></th>\n",
              "      <th>symbol</th>\n",
              "      <th>date</th>\n",
              "      <th>close</th>\n",
              "      <th>high</th>\n",
              "      <th>low</th>\n",
              "      <th>open</th>\n",
              "      <th>volume</th>\n",
              "      <th>adjClose</th>\n",
              "      <th>adjHigh</th>\n",
              "      <th>adjLow</th>\n",
              "      <th>adjOpen</th>\n",
              "      <th>adjVolume</th>\n",
              "      <th>divCash</th>\n",
              "      <th>splitFactor</th>\n",
              "    </tr>\n",
              "  </thead>\n",
              "  <tbody>\n",
              "    <tr>\n",
              "      <th>0</th>\n",
              "      <td>AMC</td>\n",
              "      <td>2016-07-27 00:00:00+00:00</td>\n",
              "      <td>29.26</td>\n",
              "      <td>30.01</td>\n",
              "      <td>28.5901</td>\n",
              "      <td>29.87</td>\n",
              "      <td>396971</td>\n",
              "      <td>22.555746</td>\n",
              "      <td>23.133901</td>\n",
              "      <td>22.039338</td>\n",
              "      <td>23.025979</td>\n",
              "      <td>396971</td>\n",
              "      <td>0.0</td>\n",
              "      <td>1.0</td>\n",
              "    </tr>\n",
              "    <tr>\n",
              "      <th>1</th>\n",
              "      <td>AMC</td>\n",
              "      <td>2016-07-28 00:00:00+00:00</td>\n",
              "      <td>29.53</td>\n",
              "      <td>29.55</td>\n",
              "      <td>28.9150</td>\n",
              "      <td>29.10</td>\n",
              "      <td>339736</td>\n",
              "      <td>22.763882</td>\n",
              "      <td>22.779299</td>\n",
              "      <td>22.289795</td>\n",
              "      <td>22.432406</td>\n",
              "      <td>339736</td>\n",
              "      <td>0.0</td>\n",
              "      <td>1.0</td>\n",
              "    </tr>\n",
              "    <tr>\n",
              "      <th>2</th>\n",
              "      <td>AMC</td>\n",
              "      <td>2016-07-29 00:00:00+00:00</td>\n",
              "      <td>29.42</td>\n",
              "      <td>29.91</td>\n",
              "      <td>29.1300</td>\n",
              "      <td>29.46</td>\n",
              "      <td>396301</td>\n",
              "      <td>22.679086</td>\n",
              "      <td>23.056814</td>\n",
              "      <td>22.455533</td>\n",
              "      <td>22.709921</td>\n",
              "      <td>396301</td>\n",
              "      <td>0.0</td>\n",
              "      <td>1.0</td>\n",
              "    </tr>\n",
              "    <tr>\n",
              "      <th>3</th>\n",
              "      <td>AMC</td>\n",
              "      <td>2016-08-01 00:00:00+00:00</td>\n",
              "      <td>28.46</td>\n",
              "      <td>29.05</td>\n",
              "      <td>27.3600</td>\n",
              "      <td>27.50</td>\n",
              "      <td>733602</td>\n",
              "      <td>21.939048</td>\n",
              "      <td>22.393863</td>\n",
              "      <td>21.091087</td>\n",
              "      <td>21.199009</td>\n",
              "      <td>733602</td>\n",
              "      <td>0.0</td>\n",
              "      <td>1.0</td>\n",
              "    </tr>\n",
              "    <tr>\n",
              "      <th>4</th>\n",
              "      <td>AMC</td>\n",
              "      <td>2016-08-02 00:00:00+00:00</td>\n",
              "      <td>27.83</td>\n",
              "      <td>28.51</td>\n",
              "      <td>27.8100</td>\n",
              "      <td>28.51</td>\n",
              "      <td>314265</td>\n",
              "      <td>21.453398</td>\n",
              "      <td>21.977591</td>\n",
              "      <td>21.437980</td>\n",
              "      <td>21.977591</td>\n",
              "      <td>314265</td>\n",
              "      <td>0.0</td>\n",
              "      <td>1.0</td>\n",
              "    </tr>\n",
              "  </tbody>\n",
              "</table>\n",
              "</div>"
            ],
            "text/plain": [
              "  symbol                       date  close  ...  adjVolume  divCash  splitFactor\n",
              "0    AMC  2016-07-27 00:00:00+00:00  29.26  ...     396971      0.0          1.0\n",
              "1    AMC  2016-07-28 00:00:00+00:00  29.53  ...     339736      0.0          1.0\n",
              "2    AMC  2016-07-29 00:00:00+00:00  29.42  ...     396301      0.0          1.0\n",
              "3    AMC  2016-08-01 00:00:00+00:00  28.46  ...     733602      0.0          1.0\n",
              "4    AMC  2016-08-02 00:00:00+00:00  27.83  ...     314265      0.0          1.0\n",
              "\n",
              "[5 rows x 14 columns]"
            ]
          },
          "metadata": {
            "tags": []
          },
          "execution_count": 19
        }
      ]
    },
    {
      "cell_type": "code",
      "metadata": {
        "colab": {
          "base_uri": "https://localhost:8080/",
          "height": 285
        },
        "id": "tb_dd6xOqFBH",
        "outputId": "ccbd69ab-7812-46ad-89d3-33417356282b"
      },
      "source": [
        "df.head()"
      ],
      "execution_count": 20,
      "outputs": [
        {
          "output_type": "execute_result",
          "data": {
            "text/html": [
              "<div>\n",
              "<style scoped>\n",
              "    .dataframe tbody tr th:only-of-type {\n",
              "        vertical-align: middle;\n",
              "    }\n",
              "\n",
              "    .dataframe tbody tr th {\n",
              "        vertical-align: top;\n",
              "    }\n",
              "\n",
              "    .dataframe thead th {\n",
              "        text-align: right;\n",
              "    }\n",
              "</style>\n",
              "<table border=\"1\" class=\"dataframe\">\n",
              "  <thead>\n",
              "    <tr style=\"text-align: right;\">\n",
              "      <th></th>\n",
              "      <th>symbol</th>\n",
              "      <th>date</th>\n",
              "      <th>close</th>\n",
              "      <th>high</th>\n",
              "      <th>low</th>\n",
              "      <th>open</th>\n",
              "      <th>volume</th>\n",
              "      <th>adjClose</th>\n",
              "      <th>adjHigh</th>\n",
              "      <th>adjLow</th>\n",
              "      <th>adjOpen</th>\n",
              "      <th>adjVolume</th>\n",
              "      <th>divCash</th>\n",
              "      <th>splitFactor</th>\n",
              "    </tr>\n",
              "  </thead>\n",
              "  <tbody>\n",
              "    <tr>\n",
              "      <th>0</th>\n",
              "      <td>AMC</td>\n",
              "      <td>2016-07-27 00:00:00+00:00</td>\n",
              "      <td>29.26</td>\n",
              "      <td>30.01</td>\n",
              "      <td>28.5901</td>\n",
              "      <td>29.87</td>\n",
              "      <td>396971</td>\n",
              "      <td>22.555746</td>\n",
              "      <td>23.133901</td>\n",
              "      <td>22.039338</td>\n",
              "      <td>23.025979</td>\n",
              "      <td>396971</td>\n",
              "      <td>0.0</td>\n",
              "      <td>1.0</td>\n",
              "    </tr>\n",
              "    <tr>\n",
              "      <th>1</th>\n",
              "      <td>AMC</td>\n",
              "      <td>2016-07-28 00:00:00+00:00</td>\n",
              "      <td>29.53</td>\n",
              "      <td>29.55</td>\n",
              "      <td>28.9150</td>\n",
              "      <td>29.10</td>\n",
              "      <td>339736</td>\n",
              "      <td>22.763882</td>\n",
              "      <td>22.779299</td>\n",
              "      <td>22.289795</td>\n",
              "      <td>22.432406</td>\n",
              "      <td>339736</td>\n",
              "      <td>0.0</td>\n",
              "      <td>1.0</td>\n",
              "    </tr>\n",
              "    <tr>\n",
              "      <th>2</th>\n",
              "      <td>AMC</td>\n",
              "      <td>2016-07-29 00:00:00+00:00</td>\n",
              "      <td>29.42</td>\n",
              "      <td>29.91</td>\n",
              "      <td>29.1300</td>\n",
              "      <td>29.46</td>\n",
              "      <td>396301</td>\n",
              "      <td>22.679086</td>\n",
              "      <td>23.056814</td>\n",
              "      <td>22.455533</td>\n",
              "      <td>22.709921</td>\n",
              "      <td>396301</td>\n",
              "      <td>0.0</td>\n",
              "      <td>1.0</td>\n",
              "    </tr>\n",
              "    <tr>\n",
              "      <th>3</th>\n",
              "      <td>AMC</td>\n",
              "      <td>2016-08-01 00:00:00+00:00</td>\n",
              "      <td>28.46</td>\n",
              "      <td>29.05</td>\n",
              "      <td>27.3600</td>\n",
              "      <td>27.50</td>\n",
              "      <td>733602</td>\n",
              "      <td>21.939048</td>\n",
              "      <td>22.393863</td>\n",
              "      <td>21.091087</td>\n",
              "      <td>21.199009</td>\n",
              "      <td>733602</td>\n",
              "      <td>0.0</td>\n",
              "      <td>1.0</td>\n",
              "    </tr>\n",
              "    <tr>\n",
              "      <th>4</th>\n",
              "      <td>AMC</td>\n",
              "      <td>2016-08-02 00:00:00+00:00</td>\n",
              "      <td>27.83</td>\n",
              "      <td>28.51</td>\n",
              "      <td>27.8100</td>\n",
              "      <td>28.51</td>\n",
              "      <td>314265</td>\n",
              "      <td>21.453398</td>\n",
              "      <td>21.977591</td>\n",
              "      <td>21.437980</td>\n",
              "      <td>21.977591</td>\n",
              "      <td>314265</td>\n",
              "      <td>0.0</td>\n",
              "      <td>1.0</td>\n",
              "    </tr>\n",
              "  </tbody>\n",
              "</table>\n",
              "</div>"
            ],
            "text/plain": [
              "  symbol                       date  close  ...  adjVolume  divCash  splitFactor\n",
              "0    AMC  2016-07-27 00:00:00+00:00  29.26  ...     396971      0.0          1.0\n",
              "1    AMC  2016-07-28 00:00:00+00:00  29.53  ...     339736      0.0          1.0\n",
              "2    AMC  2016-07-29 00:00:00+00:00  29.42  ...     396301      0.0          1.0\n",
              "3    AMC  2016-08-01 00:00:00+00:00  28.46  ...     733602      0.0          1.0\n",
              "4    AMC  2016-08-02 00:00:00+00:00  27.83  ...     314265      0.0          1.0\n",
              "\n",
              "[5 rows x 14 columns]"
            ]
          },
          "metadata": {
            "tags": []
          },
          "execution_count": 20
        }
      ]
    },
    {
      "cell_type": "code",
      "metadata": {
        "colab": {
          "base_uri": "https://localhost:8080/",
          "height": 285
        },
        "id": "jaSWEZVQqUP3",
        "outputId": "4ed98c73-b67a-4367-b186-b7dac75e0d13"
      },
      "source": [
        "df.tail()"
      ],
      "execution_count": 21,
      "outputs": [
        {
          "output_type": "execute_result",
          "data": {
            "text/html": [
              "<div>\n",
              "<style scoped>\n",
              "    .dataframe tbody tr th:only-of-type {\n",
              "        vertical-align: middle;\n",
              "    }\n",
              "\n",
              "    .dataframe tbody tr th {\n",
              "        vertical-align: top;\n",
              "    }\n",
              "\n",
              "    .dataframe thead th {\n",
              "        text-align: right;\n",
              "    }\n",
              "</style>\n",
              "<table border=\"1\" class=\"dataframe\">\n",
              "  <thead>\n",
              "    <tr style=\"text-align: right;\">\n",
              "      <th></th>\n",
              "      <th>symbol</th>\n",
              "      <th>date</th>\n",
              "      <th>close</th>\n",
              "      <th>high</th>\n",
              "      <th>low</th>\n",
              "      <th>open</th>\n",
              "      <th>volume</th>\n",
              "      <th>adjClose</th>\n",
              "      <th>adjHigh</th>\n",
              "      <th>adjLow</th>\n",
              "      <th>adjOpen</th>\n",
              "      <th>adjVolume</th>\n",
              "      <th>divCash</th>\n",
              "      <th>splitFactor</th>\n",
              "    </tr>\n",
              "  </thead>\n",
              "  <tbody>\n",
              "    <tr>\n",
              "      <th>1252</th>\n",
              "      <td>AMC</td>\n",
              "      <td>2021-07-19 00:00:00+00:00</td>\n",
              "      <td>34.62</td>\n",
              "      <td>35.34</td>\n",
              "      <td>31.15</td>\n",
              "      <td>32.95</td>\n",
              "      <td>112891310</td>\n",
              "      <td>34.62</td>\n",
              "      <td>35.34</td>\n",
              "      <td>31.15</td>\n",
              "      <td>32.95</td>\n",
              "      <td>112891310</td>\n",
              "      <td>0.0</td>\n",
              "      <td>1.0</td>\n",
              "    </tr>\n",
              "    <tr>\n",
              "      <th>1253</th>\n",
              "      <td>AMC</td>\n",
              "      <td>2021-07-20 00:00:00+00:00</td>\n",
              "      <td>43.09</td>\n",
              "      <td>44.39</td>\n",
              "      <td>35.13</td>\n",
              "      <td>35.14</td>\n",
              "      <td>168673390</td>\n",
              "      <td>43.09</td>\n",
              "      <td>44.39</td>\n",
              "      <td>35.13</td>\n",
              "      <td>35.14</td>\n",
              "      <td>168673390</td>\n",
              "      <td>0.0</td>\n",
              "      <td>1.0</td>\n",
              "    </tr>\n",
              "    <tr>\n",
              "      <th>1254</th>\n",
              "      <td>AMC</td>\n",
              "      <td>2021-07-21 00:00:00+00:00</td>\n",
              "      <td>40.78</td>\n",
              "      <td>46.55</td>\n",
              "      <td>40.11</td>\n",
              "      <td>41.80</td>\n",
              "      <td>158023665</td>\n",
              "      <td>40.78</td>\n",
              "      <td>46.55</td>\n",
              "      <td>40.11</td>\n",
              "      <td>41.80</td>\n",
              "      <td>158023665</td>\n",
              "      <td>0.0</td>\n",
              "      <td>1.0</td>\n",
              "    </tr>\n",
              "    <tr>\n",
              "      <th>1255</th>\n",
              "      <td>AMC</td>\n",
              "      <td>2021-07-22 00:00:00+00:00</td>\n",
              "      <td>37.24</td>\n",
              "      <td>41.74</td>\n",
              "      <td>37.15</td>\n",
              "      <td>40.16</td>\n",
              "      <td>93985854</td>\n",
              "      <td>37.24</td>\n",
              "      <td>41.74</td>\n",
              "      <td>37.15</td>\n",
              "      <td>40.16</td>\n",
              "      <td>93985854</td>\n",
              "      <td>0.0</td>\n",
              "      <td>1.0</td>\n",
              "    </tr>\n",
              "    <tr>\n",
              "      <th>1256</th>\n",
              "      <td>AMC</td>\n",
              "      <td>2021-07-23 00:00:00+00:00</td>\n",
              "      <td>36.99</td>\n",
              "      <td>38.40</td>\n",
              "      <td>34.69</td>\n",
              "      <td>37.78</td>\n",
              "      <td>85474775</td>\n",
              "      <td>36.99</td>\n",
              "      <td>38.40</td>\n",
              "      <td>34.69</td>\n",
              "      <td>37.78</td>\n",
              "      <td>85474775</td>\n",
              "      <td>0.0</td>\n",
              "      <td>1.0</td>\n",
              "    </tr>\n",
              "  </tbody>\n",
              "</table>\n",
              "</div>"
            ],
            "text/plain": [
              "     symbol                       date  close  ...  adjVolume  divCash  splitFactor\n",
              "1252    AMC  2021-07-19 00:00:00+00:00  34.62  ...  112891310      0.0          1.0\n",
              "1253    AMC  2021-07-20 00:00:00+00:00  43.09  ...  168673390      0.0          1.0\n",
              "1254    AMC  2021-07-21 00:00:00+00:00  40.78  ...  158023665      0.0          1.0\n",
              "1255    AMC  2021-07-22 00:00:00+00:00  37.24  ...   93985854      0.0          1.0\n",
              "1256    AMC  2021-07-23 00:00:00+00:00  36.99  ...   85474775      0.0          1.0\n",
              "\n",
              "[5 rows x 14 columns]"
            ]
          },
          "metadata": {
            "tags": []
          },
          "execution_count": 21
        }
      ]
    },
    {
      "cell_type": "code",
      "metadata": {
        "colab": {
          "base_uri": "https://localhost:8080/",
          "height": 566
        },
        "id": "CJaKityCqY1c",
        "outputId": "ac292750-8712-4caa-eb68-0e239c11c0b5"
      },
      "source": [
        "from matplotlib import pyplot as plt\n",
        "plt.figure(figsize = (18,9))\n",
        "plt.plot(df[\"open\"])\n",
        "plt.plot(df[\"high\"])\n",
        "plt.plot(df[\"low\"])\n",
        "plt.plot(df[\"close\"])\n",
        "plt.title('AMC stock price history')\n",
        "plt.ylabel('Price (USD)')\n",
        "plt.xlabel('Days')\n",
        "plt.legend(['Open','High','Low','Close'], loc='upper left')\n",
        "plt.show()"
      ],
      "execution_count": 22,
      "outputs": [
        {
          "output_type": "display_data",
          "data": {
            "image/png": "[encoded data removed]",
            "text/plain": [
              "<Figure size 1296x648 with 1 Axes>"
            ]
          },
          "metadata": {
            "tags": [],
            "needs_background": "light"
          }
        }
      ]
    },
    {
      "cell_type": "code",
      "metadata": {
        "colab": {
          "base_uri": "https://localhost:8080/",
          "height": 566
        },
        "id": "LWRE9aVTqwtf",
        "outputId": "05c732be-88f3-493e-ca7c-fc4feeb91113"
      },
      "source": [
        "#check out the plot for volume\n",
        "plt.figure(figsize = (18,9))\n",
        "plt.plot(df[\"volume\"])\n",
        "plt.title('AMC stock volume history')\n",
        "plt.ylabel('volume')\n",
        "plt.xlabel('Days')\n",
        "plt.show()"
      ],
      "execution_count": 23,
      "outputs": [
        {
          "output_type": "display_data",
          "data": {
            "image/png": "[encoded data removed]",
            "text/plain": [
              "<Figure size 1296x648 with 1 Axes>"
            ]
          },
          "metadata": {
            "tags": [],
            "needs_background": "light"
          }
        }
      ]
    },
    {
      "cell_type": "code",
      "metadata": {
        "colab": {
          "base_uri": "https://localhost:8080/"
        },
        "id": "0N0aTrSvrWNR",
        "outputId": "08d94e24-623d-4f33-b7c4-ff4ca3036747"
      },
      "source": [
        "print(\"checking if any null values are present\\n\", df.isna().sum())"
      ],
      "execution_count": 24,
      "outputs": [
        {
          "output_type": "stream",
          "text": [
            "checking if any null values are present\n",
            " symbol         0\n",
            "date           0\n",
            "close          0\n",
            "high           0\n",
            "low            0\n",
            "open           0\n",
            "volume         0\n",
            "adjClose       0\n",
            "adjHigh        0\n",
            "adjLow         0\n",
            "adjOpen        0\n",
            "adjVolume      0\n",
            "divCash        0\n",
            "splitFactor    0\n",
            "dtype: int64\n"
          ],
          "name": "stdout"
        }
      ]
    },
    {
      "cell_type": "code",
      "metadata": {
        "id": "MTh9z2ARuO3Y"
      },
      "source": [
        "df = df.sort_values('date')"
      ],
      "execution_count": 25,
      "outputs": []
    },
    {
      "cell_type": "code",
      "metadata": {
        "colab": {
          "base_uri": "https://localhost:8080/",
          "height": 655
        },
        "id": "s14w1hvUs1L2",
        "outputId": "78776d60-8f19-46e1-e17d-60fffb17d4de"
      },
      "source": [
        "plt.figure(figsize = (18,9))\n",
        "plt.plot(range(df.shape[0]),(df['low']+df['high'])/2.0)\n",
        "plt.xticks(range(0,df.shape[0],500),df['date'].loc[::500],rotation=45)\n",
        "plt.xlabel('Date',fontsize=18)\n",
        "plt.ylabel('Mid Price',fontsize=18)\n",
        "plt.show()"
      ],
      "execution_count": 26,
      "outputs": [
        {
          "output_type": "display_data",
          "data": {
            "image/png": "[encoded data removed]",
            "text/plain": [
              "<Figure size 1296x648 with 1 Axes>"
            ]
          },
          "metadata": {
            "tags": [],
            "needs_background": "light"
          }
        }
      ]
    },
    {
      "cell_type": "code",
      "metadata": {
        "id": "0Xjs4QuKrbOi"
      },
      "source": [
        "#creating a saparate dataframe with only Close column\n",
        "stock_close_data=df.reset_index()['close']"
      ],
      "execution_count": 27,
      "outputs": []
    },
    {
      "cell_type": "code",
      "metadata": {
        "colab": {
          "base_uri": "https://localhost:8080/",
          "height": 566
        },
        "id": "XiwCTREDso4H",
        "outputId": "3098fda5-5cff-4797-bdeb-bdc575006652"
      },
      "source": [
        "import matplotlib.pyplot as plt\n",
        "plt.figure(figsize = (18,9))\n",
        "plt.plot(stock_close_data)\n",
        "plt.title('AMC stock close history')\n",
        "plt.ylabel('close')\n",
        "plt.xlabel('Days')\n",
        "plt.show()"
      ],
      "execution_count": 28,
      "outputs": [
        {
          "output_type": "display_data",
          "data": {
            "image/png": "[encoded data removed]",
            "text/plain": [
              "<Figure size 1296x648 with 1 Axes>"
            ]
          },
          "metadata": {
            "tags": [],
            "needs_background": "light"
          }
        }
      ]
    },
    {
      "cell_type": "code",
      "metadata": {
        "colab": {
          "base_uri": "https://localhost:8080/"
        },
        "id": "0A64Pculsrq2",
        "outputId": "000e3131-b901-4e5c-c241-7e3512ee7e87"
      },
      "source": [
        "stock_close_data"
      ],
      "execution_count": 29,
      "outputs": [
        {
          "output_type": "execute_result",
          "data": {
            "text/plain": [
              "0       29.26\n",
              "1       29.53\n",
              "2       29.42\n",
              "3       28.46\n",
              "4       27.83\n",
              "        ...  \n",
              "1252    34.62\n",
              "1253    43.09\n",
              "1254    40.78\n",
              "1255    37.24\n",
              "1256    36.99\n",
              "Name: close, Length: 1257, dtype: float64"
            ]
          },
          "metadata": {
            "tags": []
          },
          "execution_count": 29
        }
      ]
    },
    {
      "cell_type": "code",
      "metadata": {
        "id": "j3t3Qcbyt42e"
      },
      "source": [
        "#sklearn providing utility function for standization or scaling data\n",
        "from sklearn.preprocessing import MinMaxScaler\n",
        "scaler=MinMaxScaler(feature_range=(0,1))\n",
        "stock_close_data=scaler.fit_transform(np.array(stock_close_data).reshape(-1,1))"
      ],
      "execution_count": 30,
      "outputs": []
    },
    {
      "cell_type": "code",
      "metadata": {
        "colab": {
          "base_uri": "https://localhost:8080/"
        },
        "id": "LgT0Wf3ZxrRB",
        "outputId": "a66f4837-9e6e-4043-a664-07db47c55987"
      },
      "source": [
        "stock_close_data.shape , print(stock_close_data)"
      ],
      "execution_count": 31,
      "outputs": [
        {
          "output_type": "stream",
          "text": [
            "[[0.45038798]\n",
            " [0.45484563]\n",
            " [0.45302955]\n",
            " ...\n",
            " [0.64058115]\n",
            " [0.58213637]\n",
            " [0.57800892]]\n"
          ],
          "name": "stdout"
        },
        {
          "output_type": "execute_result",
          "data": {
            "text/plain": [
              "((1257, 1), None)"
            ]
          },
          "metadata": {
            "tags": []
          },
          "execution_count": 31
        }
      ]
    },
    {
      "cell_type": "code",
      "metadata": {
        "id": "fOH49kSkyEgI"
      },
      "source": [
        "##splitting dataset into train and test split\n",
        "training_size=int(len(stock_close_data)*0.65)"
      ],
      "execution_count": 32,
      "outputs": []
    },
    {
      "cell_type": "code",
      "metadata": {
        "id": "DIryZLYZzKM_"
      },
      "source": [
        "test_size=len(stock_close_data)-training_size"
      ],
      "execution_count": 33,
      "outputs": []
    },
    {
      "cell_type": "code",
      "metadata": {
        "id": "5Z0mEgwlza31"
      },
      "source": [
        "train_data,test_data=stock_close_data[0:training_size,:],stock_close_data[training_size:len(stock_close_data),:1]"
      ],
      "execution_count": 34,
      "outputs": []
    },
    {
      "cell_type": "code",
      "metadata": {
        "colab": {
          "base_uri": "https://localhost:8080/"
        },
        "id": "hoIelJIHzjG5",
        "outputId": "a43fe870-ea54-4347-b69f-6c686ba61a45"
      },
      "source": [
        "training_size,test_size"
      ],
      "execution_count": 35,
      "outputs": [
        {
          "output_type": "execute_result",
          "data": {
            "text/plain": [
              "(817, 440)"
            ]
          },
          "metadata": {
            "tags": []
          },
          "execution_count": 35
        }
      ]
    },
    {
      "cell_type": "code",
      "metadata": {
        "colab": {
          "base_uri": "https://localhost:8080/"
        },
        "id": "SVfOqdWlzlqJ",
        "outputId": "8340f82e-fdf8-408b-d124-e2751b647f87"
      },
      "source": [
        "train_data"
      ],
      "execution_count": 36,
      "outputs": [
        {
          "output_type": "execute_result",
          "data": {
            "text/plain": [
              "array([[0.45038798],\n",
              "       [0.45484563],\n",
              "       [0.45302955],\n",
              "       [0.43718012],\n",
              "       [0.42677893],\n",
              "       [0.43338286],\n",
              "       [0.44048209],\n",
              "       [0.44659072],\n",
              "       [0.44477464],\n",
              "       [0.44394915],\n",
              "       [0.45269936],\n",
              "       [0.45682681],\n",
              "       [0.45930329],\n",
              "       [0.4578174 ],\n",
              "       [0.45847779],\n",
              "       [0.45699191],\n",
              "       [0.46409113],\n",
              "       [0.46111937],\n",
              "       [0.45699191],\n",
              "       [0.45847779],\n",
              "       [0.46425623],\n",
              "       [0.46524682],\n",
              "       [0.45649662],\n",
              "       [0.45913819],\n",
              "       [0.45963348],\n",
              "       [0.46953938],\n",
              "       [0.47102526],\n",
              "       [0.47086016],\n",
              "       [0.47135546],\n",
              "       [0.47894998],\n",
              "       [0.4763084 ],\n",
              "       [0.4675582 ],\n",
              "       [0.47911507],\n",
              "       [0.47828958],\n",
              "       [0.47911507],\n",
              "       [0.48918607],\n",
              "       [0.49413901],\n",
              "       [0.49298333],\n",
              "       [0.49182764],\n",
              "       [0.48736999],\n",
              "       [0.49001156],\n",
              "       [0.48456332],\n",
              "       [0.47300644],\n",
              "       [0.48439822],\n",
              "       [0.48423312],\n",
              "       [0.47581311],\n",
              "       [0.48060096],\n",
              "       [0.49925706],\n",
              "       [0.48951626],\n",
              "       [0.49463431],\n",
              "       [0.50321942],\n",
              "       [0.49958725],\n",
              "       [0.50057784],\n",
              "       [0.48736999],\n",
              "       [0.49397391],\n",
              "       [0.48489351],\n",
              "       [0.49149744],\n",
              "       [0.48819548],\n",
              "       [0.48902097],\n",
              "       [0.48819548],\n",
              "       [0.48902097],\n",
              "       [0.49232293],\n",
              "       [0.49727588],\n",
              "       [0.48902097],\n",
              "       [0.49067195],\n",
              "       [0.48654449],\n",
              "       [0.48489351],\n",
              "       [0.48654449],\n",
              "       [0.47416213],\n",
              "       [0.47251114],\n",
              "       [0.47581311],\n",
              "       [0.48406802],\n",
              "       [0.49727588],\n",
              "       [0.49975235],\n",
              "       [0.51873865],\n",
              "       [0.51873865],\n",
              "       [0.53689946],\n",
              "       [0.53689946],\n",
              "       [0.53772495],\n",
              "       [0.53689946],\n",
              "       [0.55340928],\n",
              "       [0.54597986],\n",
              "       [0.54102691],\n",
              "       [0.54020142],\n",
              "       [0.54350338],\n",
              "       [0.54432888],\n",
              "       [0.52699356],\n",
              "       [0.53772495],\n",
              "       [0.52781905],\n",
              "       [0.52038963],\n",
              "       [0.49975235],\n",
              "       [0.5137857 ],\n",
              "       [0.52534258],\n",
              "       [0.50635628],\n",
              "       [0.49727588],\n",
              "       [0.50553079],\n",
              "       [0.50140333],\n",
              "       [0.4956249 ],\n",
              "       [0.49149744],\n",
              "       [0.4956249 ],\n",
              "       [0.49397391],\n",
              "       [0.51543668],\n",
              "       [0.51956414],\n",
              "       [0.54020142],\n",
              "       [0.54680535],\n",
              "       [0.55010731],\n",
              "       [0.55258379],\n",
              "       [0.53772495],\n",
              "       [0.53194651],\n",
              "       [0.52286611],\n",
              "       [0.54102691],\n",
              "       [0.53194651],\n",
              "       [0.52864454],\n",
              "       [0.52534258],\n",
              "       [0.51708767],\n",
              "       [0.53112102],\n",
              "       [0.53359749],\n",
              "       [0.52864454],\n",
              "       [0.532772  ],\n",
              "       [0.52699356],\n",
              "       [0.52534258],\n",
              "       [0.52699356],\n",
              "       [0.53359749],\n",
              "       [0.53029553],\n",
              "       [0.53359749],\n",
              "       [0.53112102],\n",
              "       [0.532772  ],\n",
              "       [0.52864454],\n",
              "       [0.53112102],\n",
              "       [0.52451709],\n",
              "       [0.51213472],\n",
              "       [0.51296021],\n",
              "       [0.51048374],\n",
              "       [0.50635628],\n",
              "       [0.50387981],\n",
              "       [0.47994056],\n",
              "       [0.47911507],\n",
              "       [0.48489351],\n",
              "       [0.48489351],\n",
              "       [0.485719  ],\n",
              "       [0.48736999],\n",
              "       [0.48324253],\n",
              "       [0.48241704],\n",
              "       [0.4766386 ],\n",
              "       [0.48489351],\n",
              "       [0.48489351],\n",
              "       [0.485719  ],\n",
              "       [0.48654449],\n",
              "       [0.48489351],\n",
              "       [0.46920918],\n",
              "       [0.45847779],\n",
              "       [0.45269936],\n",
              "       [0.45104837],\n",
              "       [0.45352485],\n",
              "       [0.45517583],\n",
              "       [0.45517583],\n",
              "       [0.46508172],\n",
              "       [0.46920918],\n",
              "       [0.47168565],\n",
              "       [0.46425623],\n",
              "       [0.46590721],\n",
              "       [0.47251114],\n",
              "       [0.47251114],\n",
              "       [0.46508172],\n",
              "       [0.4675582 ],\n",
              "       [0.46590721],\n",
              "       [0.4766386 ],\n",
              "       [0.47581311],\n",
              "       [0.47168565],\n",
              "       [0.47828958],\n",
              "       [0.48159155],\n",
              "       [0.48654449],\n",
              "       [0.49314842],\n",
              "       [0.48819548],\n",
              "       [0.47911507],\n",
              "       [0.47581311],\n",
              "       [0.46838369],\n",
              "       [0.47333664],\n",
              "       [0.47416213],\n",
              "       [0.4675582 ],\n",
              "       [0.46590721],\n",
              "       [0.47416213],\n",
              "       [0.47086016],\n",
              "       [0.46920918],\n",
              "       [0.47828958],\n",
              "       [0.47746409],\n",
              "       [0.47416213],\n",
              "       [0.47911507],\n",
              "       [0.48241704],\n",
              "       [0.47416213],\n",
              "       [0.4675582 ],\n",
              "       [0.45930329],\n",
              "       [0.46343074],\n",
              "       [0.46425623],\n",
              "       [0.45269936],\n",
              "       [0.44774641],\n",
              "       [0.44279346],\n",
              "       [0.44444444],\n",
              "       [0.42876011],\n",
              "       [0.42133069],\n",
              "       [0.4114248 ],\n",
              "       [0.40399538],\n",
              "       [0.3924385 ],\n",
              "       [0.3734522 ],\n",
              "       [0.37180122],\n",
              "       [0.38500908],\n",
              "       [0.38005613],\n",
              "       [0.3742777 ],\n",
              "       [0.3552914 ],\n",
              "       [0.35364042],\n",
              "       [0.37510319],\n",
              "       [0.35281492],\n",
              "       [0.33878158],\n",
              "       [0.35446591],\n",
              "       [0.37675417],\n",
              "       [0.38005613],\n",
              "       [0.37015024],\n",
              "       [0.35941885],\n",
              "       [0.35776787],\n",
              "       [0.35198943],\n",
              "       [0.3552914 ],\n",
              "       [0.36767377],\n",
              "       [0.36684827],\n",
              "       [0.3643718 ],\n",
              "       [0.3742777 ],\n",
              "       [0.37592868],\n",
              "       [0.35694238],\n",
              "       [0.34786198],\n",
              "       [0.34786198],\n",
              "       [0.35694238],\n",
              "       [0.35611689],\n",
              "       [0.35281492],\n",
              "       [0.36189533],\n",
              "       [0.35776787],\n",
              "       [0.34290903],\n",
              "       [0.35033845],\n",
              "       [0.33795608],\n",
              "       [0.32474823],\n",
              "       [0.32970117],\n",
              "       [0.32227175],\n",
              "       [0.33547961],\n",
              "       [0.32062077],\n",
              "       [0.33300314],\n",
              "       [0.32887568],\n",
              "       [0.29255407],\n",
              "       [0.299158  ],\n",
              "       [0.29503054],\n",
              "       [0.30741291],\n",
              "       [0.30328545],\n",
              "       [0.30576193],\n",
              "       [0.31154037],\n",
              "       [0.31484233],\n",
              "       [0.30906389],\n",
              "       [0.30576193],\n",
              "       [0.30411095],\n",
              "       [0.31071488],\n",
              "       [0.21825986],\n",
              "       [0.21660888],\n",
              "       [0.23559518],\n",
              "       [0.23311871],\n",
              "       [0.2339442 ],\n",
              "       [0.22321281],\n",
              "       [0.2058775 ],\n",
              "       [0.19927357],\n",
              "       [0.19184415],\n",
              "       [0.18606571],\n",
              "       [0.1868912 ],\n",
              "       [0.18441473],\n",
              "       [0.18193825],\n",
              "       [0.18276374],\n",
              "       [0.17946178],\n",
              "       [0.17450883],\n",
              "       [0.17863629],\n",
              "       [0.18028727],\n",
              "       [0.18276374],\n",
              "       [0.17946178],\n",
              "       [0.18936767],\n",
              "       [0.18854218],\n",
              "       [0.20092455],\n",
              "       [0.20670299],\n",
              "       [0.20505201],\n",
              "       [0.19514611],\n",
              "       [0.18771669],\n",
              "       [0.20009906],\n",
              "       [0.20175004],\n",
              "       [0.21825986],\n",
              "       [0.23229321],\n",
              "       [0.24715206],\n",
              "       [0.24219911],\n",
              "       [0.22568929],\n",
              "       [0.22073634],\n",
              "       [0.22816576],\n",
              "       [0.22981674],\n",
              "       [0.21743437],\n",
              "       [0.22156183],\n",
              "       [0.22321281],\n",
              "       [0.2149579 ],\n",
              "       [0.21000495],\n",
              "       [0.21000495],\n",
              "       [0.22981674],\n",
              "       [0.22816576],\n",
              "       [0.23229321],\n",
              "       [0.21825986],\n",
              "       [0.19844808],\n",
              "       [0.1959716 ],\n",
              "       [0.19432062],\n",
              "       [0.1959716 ],\n",
              "       [0.19432062],\n",
              "       [0.19432062],\n",
              "       [0.19432062],\n",
              "       [0.19184415],\n",
              "       [0.20257553],\n",
              "       [0.19844808],\n",
              "       [0.20092455],\n",
              "       [0.20340102],\n",
              "       [0.19927357],\n",
              "       [0.21000495],\n",
              "       [0.21083044],\n",
              "       [0.19679709],\n",
              "       [0.19679709],\n",
              "       [0.18936767],\n",
              "       [0.17946178],\n",
              "       [0.16377745],\n",
              "       [0.16873039],\n",
              "       [0.17038138],\n",
              "       [0.16212647],\n",
              "       [0.15552254],\n",
              "       [0.14891861],\n",
              "       [0.15964999],\n",
              "       [0.16873039],\n",
              "       [0.17450883],\n",
              "       [0.17285785],\n",
              "       [0.18111276],\n",
              "       [0.1778108 ],\n",
              "       [0.17698531],\n",
              "       [0.18524022],\n",
              "       [0.1959716 ],\n",
              "       [0.21330692],\n",
              "       [0.2339442 ],\n",
              "       [0.22156183],\n",
              "       [0.20257553],\n",
              "       [0.19844808],\n",
              "       [0.20340102],\n",
              "       [0.2058775 ],\n",
              "       [0.20257553],\n",
              "       [0.20422651],\n",
              "       [0.20917946],\n",
              "       [0.21908536],\n",
              "       [0.21908536],\n",
              "       [0.21743437],\n",
              "       [0.22816576],\n",
              "       [0.21660888],\n",
              "       [0.21908536],\n",
              "       [0.21908536],\n",
              "       [0.21248143],\n",
              "       [0.22156183],\n",
              "       [0.21330692],\n",
              "       [0.20505201],\n",
              "       [0.20009906],\n",
              "       [0.21248143],\n",
              "       [0.21660888],\n",
              "       [0.22156183],\n",
              "       [0.2149579 ],\n",
              "       [0.2058775 ],\n",
              "       [0.20009906],\n",
              "       [0.19514611],\n",
              "       [0.19679709],\n",
              "       [0.19762259],\n",
              "       [0.20009906],\n",
              "       [0.2058775 ],\n",
              "       [0.19266964],\n",
              "       [0.19432062],\n",
              "       [0.18854218],\n",
              "       [0.18524022],\n",
              "       [0.18606571],\n",
              "       [0.18854218],\n",
              "       [0.18524022],\n",
              "       [0.18441473],\n",
              "       [0.17946178],\n",
              "       [0.17946178],\n",
              "       [0.17533432],\n",
              "       [0.17863629],\n",
              "       [0.19019316],\n",
              "       [0.19762259],\n",
              "       [0.18771669],\n",
              "       [0.19432062],\n",
              "       [0.20175004],\n",
              "       [0.19432062],\n",
              "       [0.18936767],\n",
              "       [0.19679709],\n",
              "       [0.1959716 ],\n",
              "       [0.20257553],\n",
              "       [0.20917946],\n",
              "       [0.20505201],\n",
              "       [0.20670299],\n",
              "       [0.20505201],\n",
              "       [0.20340102],\n",
              "       [0.21248143],\n",
              "       [0.22238732],\n",
              "       [0.22734027],\n",
              "       [0.2149579 ],\n",
              "       [0.21083044],\n",
              "       [0.22734027],\n",
              "       [0.22734027],\n",
              "       [0.23064223],\n",
              "       [0.22651478],\n",
              "       [0.2240383 ],\n",
              "       [0.22651478],\n",
              "       [0.22568929],\n",
              "       [0.21083044],\n",
              "       [0.21578339],\n",
              "       [0.21083044],\n",
              "       [0.20175004],\n",
              "       [0.20092455],\n",
              "       [0.19927357],\n",
              "       [0.20092455],\n",
              "       [0.19514611],\n",
              "       [0.19679709],\n",
              "       [0.19762259],\n",
              "       [0.19184415],\n",
              "       [0.19019316],\n",
              "       [0.19927357],\n",
              "       [0.20092455],\n",
              "       [0.21908536],\n",
              "       [0.22156183],\n",
              "       [0.23724616],\n",
              "       [0.23889714],\n",
              "       [0.23889714],\n",
              "       [0.24467558],\n",
              "       [0.2430246 ],\n",
              "       [0.23972263],\n",
              "       [0.24715206],\n",
              "       [0.25045402],\n",
              "       [0.25458148],\n",
              "       [0.25705795],\n",
              "       [0.252105  ],\n",
              "       [0.24797755],\n",
              "       [0.25045402],\n",
              "       [0.25127951],\n",
              "       [0.252105  ],\n",
              "       [0.25127951],\n",
              "       [0.25127951],\n",
              "       [0.25540697],\n",
              "       [0.23807165],\n",
              "       [0.23972263],\n",
              "       [0.24054813],\n",
              "       [0.23642067],\n",
              "       [0.25127951],\n",
              "       [0.24467558],\n",
              "       [0.23229321],\n",
              "       [0.23889714],\n",
              "       [0.23642067],\n",
              "       [0.23807165],\n",
              "       [0.24054813],\n",
              "       [0.24137362],\n",
              "       [0.24137362],\n",
              "       [0.23311871],\n",
              "       [0.23229321],\n",
              "       [0.22486379],\n",
              "       [0.21825986],\n",
              "       [0.21908536],\n",
              "       [0.21578339],\n",
              "       [0.2058775 ],\n",
              "       [0.21248143],\n",
              "       [0.21165594],\n",
              "       [0.21165594],\n",
              "       [0.20752848],\n",
              "       [0.21083044],\n",
              "       [0.21000495],\n",
              "       [0.20917946],\n",
              "       [0.2058775 ],\n",
              "       [0.21413241],\n",
              "       [0.22568929],\n",
              "       [0.22238732],\n",
              "       [0.22734027],\n",
              "       [0.22486379],\n",
              "       [0.23146772],\n",
              "       [0.23559518],\n",
              "       [0.24137362],\n",
              "       [0.25127951],\n",
              "       [0.24137362],\n",
              "       [0.23972263],\n",
              "       [0.22899125],\n",
              "       [0.22486379],\n",
              "       [0.2339442 ],\n",
              "       [0.22981674],\n",
              "       [0.22734027],\n",
              "       [0.22899125],\n",
              "       [0.24467558],\n",
              "       [0.25293049],\n",
              "       [0.25045402],\n",
              "       [0.25375598],\n",
              "       [0.25458148],\n",
              "       [0.24797755],\n",
              "       [0.24880304],\n",
              "       [0.2430246 ],\n",
              "       [0.24550107],\n",
              "       [0.23724616],\n",
              "       [0.23889714],\n",
              "       [0.23064223],\n",
              "       [0.2240383 ],\n",
              "       [0.22321281],\n",
              "       [0.21908536],\n",
              "       [0.22651478],\n",
              "       [0.22651478],\n",
              "       [0.22073634],\n",
              "       [0.23642067],\n",
              "       [0.23229321],\n",
              "       [0.24054813],\n",
              "       [0.25045402],\n",
              "       [0.25293049],\n",
              "       [0.25127951],\n",
              "       [0.25623246],\n",
              "       [0.24632656],\n",
              "       [0.25540697],\n",
              "       [0.25540697],\n",
              "       [0.25623246],\n",
              "       [0.25953442],\n",
              "       [0.26613835],\n",
              "       [0.27026581],\n",
              "       [0.27356777],\n",
              "       [0.27852072],\n",
              "       [0.28099719],\n",
              "       [0.28429916],\n",
              "       [0.28347367],\n",
              "       [0.27604425],\n",
              "       [0.28347367],\n",
              "       [0.2801717 ],\n",
              "       [0.27769523],\n",
              "       [0.28182268],\n",
              "       [0.28512465],\n",
              "       [0.28595014],\n",
              "       [0.29337956],\n",
              "       [0.29585603],\n",
              "       [0.29585603],\n",
              "       [0.29420505],\n",
              "       [0.29833251],\n",
              "       [0.299158  ],\n",
              "       [0.29420505],\n",
              "       [0.29668153],\n",
              "       [0.29750702],\n",
              "       [0.3082384 ],\n",
              "       [0.30988938],\n",
              "       [0.31979528],\n",
              "       [0.30411095],\n",
              "       [0.29585603],\n",
              "       [0.29998349],\n",
              "       [0.30493644],\n",
              "       [0.30576193],\n",
              "       [0.29519564],\n",
              "       [0.29354466],\n",
              "       [0.2989929 ],\n",
              "       [0.29701172],\n",
              "       [0.29255407],\n",
              "       [0.29090309],\n",
              "       [0.29106819],\n",
              "       [0.27686974],\n",
              "       [0.2712564 ],\n",
              "       [0.27868582],\n",
              "       [0.28545485],\n",
              "       [0.29998349],\n",
              "       [0.29437015],\n",
              "       [0.29156348],\n",
              "       [0.29437015],\n",
              "       [0.29420505],\n",
              "       [0.29255407],\n",
              "       [0.2616807 ],\n",
              "       [0.27620934],\n",
              "       [0.2616807 ],\n",
              "       [0.27637444],\n",
              "       [0.28495955],\n",
              "       [0.28528975],\n",
              "       [0.28495955],\n",
              "       [0.28099719],\n",
              "       [0.28396896],\n",
              "       [0.2714215 ],\n",
              "       [0.2707611 ],\n",
              "       [0.26663365],\n",
              "       [0.22585438],\n",
              "       [0.21809477],\n",
              "       [0.2238732 ],\n",
              "       [0.22618458],\n",
              "       [0.21066535],\n",
              "       [0.19927357],\n",
              "       [0.19002807],\n",
              "       [0.1867261 ],\n",
              "       [0.19745749],\n",
              "       [0.1964669 ],\n",
              "       [0.20108965],\n",
              "       [0.18936767],\n",
              "       [0.1958065 ],\n",
              "       [0.19778768],\n",
              "       [0.19266964],\n",
              "       [0.20208024],\n",
              "       [0.20274063],\n",
              "       [0.20884927],\n",
              "       [0.20290573],\n",
              "       [0.20340102],\n",
              "       [0.21693908],\n",
              "       [0.21941555],\n",
              "       [0.21264652],\n",
              "       [0.20686809],\n",
              "       [0.19960376],\n",
              "       [0.19778768],\n",
              "       [0.18804689],\n",
              "       [0.18160806],\n",
              "       [0.17104177],\n",
              "       [0.16972098],\n",
              "       [0.17665511],\n",
              "       [0.16873039],\n",
              "       [0.17236256],\n",
              "       [0.17005118],\n",
              "       [0.18012217],\n",
              "       [0.18292884],\n",
              "       [0.19085356],\n",
              "       [0.20042926],\n",
              "       [0.20785868],\n",
              "       [0.19762259],\n",
              "       [0.19399042],\n",
              "       [0.19894337],\n",
              "       [0.20059435],\n",
              "       [0.20356612],\n",
              "       [0.20009906],\n",
              "       [0.20026416],\n",
              "       [0.2060426 ],\n",
              "       [0.19035826],\n",
              "       [0.19498101],\n",
              "       [0.20257553],\n",
              "       [0.19861317],\n",
              "       [0.19861317],\n",
              "       [0.20158494],\n",
              "       [0.20042926],\n",
              "       [0.20917946],\n",
              "       [0.20158494],\n",
              "       [0.20422651],\n",
              "       [0.19960376],\n",
              "       [0.19498101],\n",
              "       [0.1872214 ],\n",
              "       [0.19382533],\n",
              "       [0.18474492],\n",
              "       [0.18623081],\n",
              "       [0.19035826],\n",
              "       [0.19266964],\n",
              "       [0.19498101],\n",
              "       [0.18524022],\n",
              "       [0.19299983],\n",
              "       [0.19349513],\n",
              "       [0.1963018 ],\n",
              "       [0.19250454],\n",
              "       [0.19118375],\n",
              "       [0.1963018 ],\n",
              "       [0.19894337],\n",
              "       [0.23146772],\n",
              "       [0.22321281],\n",
              "       [0.22519399],\n",
              "       [0.21710418],\n",
              "       [0.21165594],\n",
              "       [0.21033515],\n",
              "       [0.20917946],\n",
              "       [0.2053822 ],\n",
              "       [0.2055473 ],\n",
              "       [0.20637279],\n",
              "       [0.20670299],\n",
              "       [0.2149579 ],\n",
              "       [0.21083044],\n",
              "       [0.21429751],\n",
              "       [0.22189203],\n",
              "       [0.21594849],\n",
              "       [0.21991085],\n",
              "       [0.21396731],\n",
              "       [0.21231633],\n",
              "       [0.21116064],\n",
              "       [0.21248143],\n",
              "       [0.2147928 ],\n",
              "       [0.21132574],\n",
              "       [0.20851907],\n",
              "       [0.215123  ],\n",
              "       [0.2146277 ],\n",
              "       [0.23658577],\n",
              "       [0.2339442 ],\n",
              "       [0.2339442 ],\n",
              "       [0.2334489 ],\n",
              "       [0.23856695],\n",
              "       [0.23972263],\n",
              "       [0.24120852],\n",
              "       [0.24120852],\n",
              "       [0.23229321],\n",
              "       [0.21925045],\n",
              "       [0.21908536],\n",
              "       [0.22222222],\n",
              "       [0.21991085],\n",
              "       [0.22156183],\n",
              "       [0.22321281],\n",
              "       [0.21759947],\n",
              "       [0.21017005],\n",
              "       [0.21000495],\n",
              "       [0.20818887],\n",
              "       [0.21281162],\n",
              "       [0.21446261],\n",
              "       [0.20917946],\n",
              "       [0.19233944],\n",
              "       [0.19547631],\n",
              "       [0.1867261 ],\n",
              "       [0.19019316],\n",
              "       [0.19151395],\n",
              "       [0.18854218],\n",
              "       [0.18408453],\n",
              "       [0.18193825],\n",
              "       [0.18540532],\n",
              "       [0.18259865],\n",
              "       [0.18111276],\n",
              "       [0.17682021],\n",
              "       [0.17368334],\n",
              "       [0.16641902],\n",
              "       [0.16559353],\n",
              "       [0.16509823],\n",
              "       [0.16377745],\n",
              "       [0.16179627],\n",
              "       [0.15189037],\n",
              "       [0.15040449],\n",
              "       [0.14479115],\n",
              "       [0.14792802],\n",
              "       [0.149579  ],\n",
              "       [0.14380056],\n",
              "       [0.14809312],\n",
              "       [0.14825821],\n",
              "       [0.15189037],\n",
              "       [0.15568763],\n",
              "       [0.15766881],\n",
              "       [0.14776292],\n",
              "       [0.14231468],\n",
              "       [0.13257388],\n",
              "       [0.12382368],\n",
              "       [0.12332838],\n",
              "       [0.12398877],\n",
              "       [0.1213472 ],\n",
              "       [0.12035661],\n",
              "       [0.11936602],\n",
              "       [0.11754994],\n",
              "       [0.12250289],\n",
              "       [0.11358758],\n",
              "       [0.11441308],\n",
              "       [0.11953112],\n",
              "       [0.12332838],\n",
              "       [0.12349348],\n",
              "       [0.12398877],\n",
              "       [0.12877662],\n",
              "       [0.12927192],\n",
              "       [0.12613505],\n",
              "       [0.14132409],\n",
              "       [0.13917781],\n",
              "       [0.13736173],\n",
              "       [0.14528645],\n",
              "       [0.14792802],\n",
              "       [0.15304606],\n",
              "       [0.15634803],\n",
              "       [0.16113588],\n",
              "       [0.16262176],\n",
              "       [0.15321116],\n",
              "       [0.1591547 ],\n",
              "       [0.15056959],\n",
              "       [0.15420175],\n",
              "       [0.15469704],\n",
              "       [0.16559353],\n",
              "       [0.1684002 ],\n",
              "       [0.16146607],\n",
              "       [0.15998019],\n",
              "       [0.14479115],\n",
              "       [0.14627703],\n",
              "       [0.15139508],\n",
              "       [0.15535744],\n",
              "       [0.15453195],\n",
              "       [0.15568763],\n",
              "       [0.15733862],\n",
              "       [0.1490837 ],\n",
              "       [0.15403665],\n",
              "       [0.14660723],\n",
              "       [0.15304606],\n",
              "       [0.15387155],\n",
              "       [0.15073469],\n",
              "       [0.15552254],\n",
              "       [0.16064058],\n",
              "       [0.16575863],\n",
              "       [0.15750371],\n",
              "       [0.16014529],\n",
              "       [0.15964999],\n",
              "       [0.16113588],\n",
              "       [0.16047548],\n",
              "       [0.16476804],\n",
              "       [0.16394255],\n",
              "       [0.15700842],\n",
              "       [0.15172528],\n",
              "       [0.14512135],\n",
              "       [0.14644213],\n",
              "       [0.14429586],\n",
              "       [0.14413076],\n",
              "       [0.14578174],\n",
              "       [0.14594684],\n",
              "       [0.14528645],\n",
              "       [0.14396566],\n",
              "       [0.14264487],\n",
              "       [0.13604094],\n",
              "       [0.1312531 ],\n",
              "       [0.12943702],\n",
              "       [0.12877662],\n",
              "       [0.12960211],\n",
              "       [0.12233779],\n",
              "       [0.11854053],\n",
              "       [0.11953112],\n",
              "       [0.11507347],\n",
              "       [0.11870563],\n",
              "       [0.1215123 ],\n",
              "       [0.1215123 ],\n",
              "       [0.1218425 ],\n",
              "       [0.11953112],\n",
              "       [0.12844643],\n",
              "       [0.13026251]])"
            ]
          },
          "metadata": {
            "tags": []
          },
          "execution_count": 36
        }
      ]
    },
    {
      "cell_type": "code",
      "metadata": {
        "id": "1lMpkCXy0L7I"
      },
      "source": [
        "import numpy\n",
        "# convert an array of values into a dataset matrix\n",
        "def create_dataset(dataset, time_step=1):\n",
        "\tdataX, dataY = [], []\n",
        "\tfor i in range(len(dataset)-time_step-1):\n",
        "\t\ta = dataset[i:(i+time_step), 0]   ###i=0, 0,1,2,3-----99   100 \n",
        "\t\tdataX.append(a)\n",
        "\t\tdataY.append(dataset[i + time_step, 0])\n",
        "\treturn numpy.array(dataX), numpy.array(dataY)"
      ],
      "execution_count": 37,
      "outputs": []
    },
    {
      "cell_type": "code",
      "metadata": {
        "id": "eMoPYy3I0pSa"
      },
      "source": [
        "# reshape into X=t,t+1,t+2,t+3 and Y=t+4\n",
        "time_step = 100\n",
        "X_train, y_train = create_dataset(train_data, time_step)\n",
        "X_test, ytest = create_dataset(test_data, time_step)"
      ],
      "execution_count": 38,
      "outputs": []
    },
    {
      "cell_type": "code",
      "metadata": {
        "colab": {
          "base_uri": "https://localhost:8080/"
        },
        "id": "4VOZv7iI0sgq",
        "outputId": "385d48a9-34d3-4497-aafc-8ea523153f7c"
      },
      "source": [
        "print(X_train.shape), print(y_train.shape)"
      ],
      "execution_count": 39,
      "outputs": [
        {
          "output_type": "stream",
          "text": [
            "(716, 100)\n",
            "(716,)\n"
          ],
          "name": "stdout"
        },
        {
          "output_type": "execute_result",
          "data": {
            "text/plain": [
              "(None, None)"
            ]
          },
          "metadata": {
            "tags": []
          },
          "execution_count": 39
        }
      ]
    },
    {
      "cell_type": "code",
      "metadata": {
        "colab": {
          "base_uri": "https://localhost:8080/"
        },
        "id": "ieox9vBy0z7Y",
        "outputId": "5e062603-1053-4ffd-dc21-bb61e640f268"
      },
      "source": [
        "print(X_test.shape), print(ytest.shape)"
      ],
      "execution_count": 40,
      "outputs": [
        {
          "output_type": "stream",
          "text": [
            "(339, 100)\n",
            "(339,)\n"
          ],
          "name": "stdout"
        },
        {
          "output_type": "execute_result",
          "data": {
            "text/plain": [
              "(None, None)"
            ]
          },
          "metadata": {
            "tags": []
          },
          "execution_count": 40
        }
      ]
    },
    {
      "cell_type": "code",
      "metadata": {
        "id": "K2sO_5S_017A"
      },
      "source": [
        "# reshape input to be [samples, time steps, features] which is required for LSTM\n",
        "X_train =X_train.reshape(X_train.shape[0],X_train.shape[1] , 1)\n",
        "X_test = X_test.reshape(X_test.shape[0],X_test.shape[1] , 1)"
      ],
      "execution_count": 41,
      "outputs": []
    },
    {
      "cell_type": "code",
      "metadata": {
        "id": "6ehCeL5x1EVx"
      },
      "source": [
        "### Create the Stacked LSTM model\n",
        "import tensorflow as tf\n",
        "tf.__version__\n",
        "from tensorflow.keras.models import Sequential\n",
        "from tensorflow.keras.layers import Dense\n",
        "from tensorflow.keras.layers import LSTM\n",
        "from tensorflow.keras.layers import Dropout"
      ],
      "execution_count": 42,
      "outputs": []
    },
    {
      "cell_type": "code",
      "metadata": {
        "id": "b1MUF3Ew1GkC"
      },
      "source": [
        "model=Sequential()\n",
        "model.add(LSTM(50,return_sequences=True,input_shape=(100,1)))\n",
        "model.add(Dropout(0.3))\n",
        "model.add(LSTM(50,return_sequences=True))\n",
        "model.add(Dropout(0.3))\n",
        "model.add(LSTM(50))\n",
        "model.add(Dropout(0.3))\n",
        "model.add(Dense(1))\n",
        "model.compile(loss='mean_squared_error',optimizer='adam')"
      ],
      "execution_count": 43,
      "outputs": []
    },
    {
      "cell_type": "code",
      "metadata": {
        "colab": {
          "base_uri": "https://localhost:8080/"
        },
        "id": "v06veLEh1ONJ",
        "outputId": "0ff1a39e-c139-461c-87d7-f4762f6c605d"
      },
      "source": [
        "model.summary()"
      ],
      "execution_count": 44,
      "outputs": [
        {
          "output_type": "stream",
          "text": [
            "Model: \"sequential_3\"\n",
            "_________________________________________________________________\n",
            "Layer (type)                 Output Shape              Param #   \n",
            "=================================================================\n",
            "lstm_9 (LSTM)                (None, 100, 50)           10400     \n",
            "_________________________________________________________________\n",
            "dropout_5 (Dropout)          (None, 100, 50)           0         \n",
            "_________________________________________________________________\n",
            "lstm_10 (LSTM)               (None, 100, 50)           20200     \n",
            "_________________________________________________________________\n",
            "dropout_6 (Dropout)          (None, 100, 50)           0         \n",
            "_________________________________________________________________\n",
            "lstm_11 (LSTM)               (None, 50)                20200     \n",
            "_________________________________________________________________\n",
            "dropout_7 (Dropout)          (None, 50)                0         \n",
            "_________________________________________________________________\n",
            "dense_3 (Dense)              (None, 1)                 51        \n",
            "=================================================================\n",
            "Total params: 50,851\n",
            "Trainable params: 50,851\n",
            "Non-trainable params: 0\n",
            "_________________________________________________________________\n"
          ],
          "name": "stdout"
        }
      ]
    },
    {
      "cell_type": "code",
      "metadata": {
        "colab": {
          "base_uri": "https://localhost:8080/"
        },
        "id": "XI0pV8R31QHG",
        "outputId": "26985767-bac8-48e3-c688-4c0f92afbc1f"
      },
      "source": [
        "model.fit(X_train,y_train,validation_data=(X_test,ytest),epochs=100,batch_size=64,verbose=1)"
      ],
      "execution_count": 45,
      "outputs": [
        {
          "output_type": "stream",
          "text": [
            "Epoch 1/100\n",
            "12/12 [==============================] - 11s 114ms/step - loss: 0.0163 - val_loss: 0.0247\n",
            "Epoch 2/100\n",
            "12/12 [==============================] - 0s 23ms/step - loss: 0.0043 - val_loss: 0.0177\n",
            "Epoch 3/100\n",
            "12/12 [==============================] - 0s 21ms/step - loss: 0.0028 - val_loss: 0.0150\n",
            "Epoch 4/100\n",
            "12/12 [==============================] - 0s 21ms/step - loss: 0.0020 - val_loss: 0.0145\n",
            "Epoch 5/100\n",
            "12/12 [==============================] - 0s 21ms/step - loss: 0.0019 - val_loss: 0.0145\n",
            "Epoch 6/100\n",
            "12/12 [==============================] - 0s 20ms/step - loss: 0.0018 - val_loss: 0.0149\n",
            "Epoch 7/100\n",
            "12/12 [==============================] - 0s 20ms/step - loss: 0.0015 - val_loss: 0.0145\n",
            "Epoch 8/100\n",
            "12/12 [==============================] - 0s 22ms/step - loss: 0.0017 - val_loss: 0.0142\n",
            "Epoch 9/100\n",
            "12/12 [==============================] - 0s 21ms/step - loss: 0.0018 - val_loss: 0.0136\n",
            "Epoch 10/100\n",
            "12/12 [==============================] - 0s 22ms/step - loss: 0.0017 - val_loss: 0.0132\n",
            "Epoch 11/100\n",
            "12/12 [==============================] - 0s 20ms/step - loss: 0.0015 - val_loss: 0.0134\n",
            "Epoch 12/100\n",
            "12/12 [==============================] - 0s 21ms/step - loss: 0.0016 - val_loss: 0.0129\n",
            "Epoch 13/100\n",
            "12/12 [==============================] - 0s 20ms/step - loss: 0.0014 - val_loss: 0.0129\n",
            "Epoch 14/100\n",
            "12/12 [==============================] - 0s 20ms/step - loss: 0.0017 - val_loss: 0.0136\n",
            "Epoch 15/100\n",
            "12/12 [==============================] - 0s 20ms/step - loss: 0.0017 - val_loss: 0.0130\n",
            "Epoch 16/100\n",
            "12/12 [==============================] - 0s 21ms/step - loss: 0.0016 - val_loss: 0.0125\n",
            "Epoch 17/100\n",
            "12/12 [==============================] - 0s 20ms/step - loss: 0.0015 - val_loss: 0.0123\n",
            "Epoch 18/100\n",
            "12/12 [==============================] - 0s 20ms/step - loss: 0.0015 - val_loss: 0.0120\n",
            "Epoch 19/100\n",
            "12/12 [==============================] - 0s 20ms/step - loss: 0.0013 - val_loss: 0.0121\n",
            "Epoch 20/100\n",
            "12/12 [==============================] - 0s 21ms/step - loss: 0.0017 - val_loss: 0.0123\n",
            "Epoch 21/100\n",
            "12/12 [==============================] - 0s 21ms/step - loss: 0.0013 - val_loss: 0.0117\n",
            "Epoch 22/100\n",
            "12/12 [==============================] - 0s 20ms/step - loss: 0.0013 - val_loss: 0.0118\n",
            "Epoch 23/100\n",
            "12/12 [==============================] - 0s 20ms/step - loss: 0.0013 - val_loss: 0.0116\n",
            "Epoch 24/100\n",
            "12/12 [==============================] - 0s 20ms/step - loss: 0.0015 - val_loss: 0.0114\n",
            "Epoch 25/100\n",
            "12/12 [==============================] - 0s 20ms/step - loss: 0.0014 - val_loss: 0.0115\n",
            "Epoch 26/100\n",
            "12/12 [==============================] - 0s 20ms/step - loss: 0.0015 - val_loss: 0.0113\n",
            "Epoch 27/100\n",
            "12/12 [==============================] - 0s 20ms/step - loss: 0.0015 - val_loss: 0.0111\n",
            "Epoch 28/100\n",
            "12/12 [==============================] - 0s 22ms/step - loss: 0.0013 - val_loss: 0.0111\n",
            "Epoch 29/100\n",
            "12/12 [==============================] - 0s 21ms/step - loss: 0.0011 - val_loss: 0.0111\n",
            "Epoch 30/100\n",
            "12/12 [==============================] - 0s 20ms/step - loss: 0.0014 - val_loss: 0.0109\n",
            "Epoch 31/100\n",
            "12/12 [==============================] - 0s 20ms/step - loss: 0.0015 - val_loss: 0.0105\n",
            "Epoch 32/100\n",
            "12/12 [==============================] - 0s 20ms/step - loss: 0.0016 - val_loss: 0.0107\n",
            "Epoch 33/100\n",
            "12/12 [==============================] - 0s 20ms/step - loss: 0.0014 - val_loss: 0.0104\n",
            "Epoch 34/100\n",
            "12/12 [==============================] - 0s 20ms/step - loss: 0.0012 - val_loss: 0.0102\n",
            "Epoch 35/100\n",
            "12/12 [==============================] - 0s 21ms/step - loss: 0.0011 - val_loss: 0.0101\n",
            "Epoch 36/100\n",
            "12/12 [==============================] - 0s 20ms/step - loss: 0.0012 - val_loss: 0.0100\n",
            "Epoch 37/100\n",
            "12/12 [==============================] - 0s 22ms/step - loss: 0.0012 - val_loss: 0.0097\n",
            "Epoch 38/100\n",
            "12/12 [==============================] - 0s 20ms/step - loss: 0.0011 - val_loss: 0.0096\n",
            "Epoch 39/100\n",
            "12/12 [==============================] - 0s 21ms/step - loss: 0.0010 - val_loss: 0.0097\n",
            "Epoch 40/100\n",
            "12/12 [==============================] - 0s 21ms/step - loss: 0.0011 - val_loss: 0.0096\n",
            "Epoch 41/100\n",
            "12/12 [==============================] - 0s 21ms/step - loss: 9.5343e-04 - val_loss: 0.0096\n",
            "Epoch 42/100\n",
            "12/12 [==============================] - 0s 21ms/step - loss: 9.7248e-04 - val_loss: 0.0094\n",
            "Epoch 43/100\n",
            "12/12 [==============================] - 0s 20ms/step - loss: 9.1443e-04 - val_loss: 0.0092\n",
            "Epoch 44/100\n",
            "12/12 [==============================] - 0s 21ms/step - loss: 8.7925e-04 - val_loss: 0.0091\n",
            "Epoch 45/100\n",
            "12/12 [==============================] - 0s 20ms/step - loss: 0.0012 - val_loss: 0.0088\n",
            "Epoch 46/100\n",
            "12/12 [==============================] - 0s 22ms/step - loss: 0.0011 - val_loss: 0.0087\n",
            "Epoch 47/100\n",
            "12/12 [==============================] - 0s 20ms/step - loss: 0.0011 - val_loss: 0.0088\n",
            "Epoch 48/100\n",
            "12/12 [==============================] - 0s 20ms/step - loss: 9.8148e-04 - val_loss: 0.0086\n",
            "Epoch 49/100\n",
            "12/12 [==============================] - 0s 21ms/step - loss: 9.3078e-04 - val_loss: 0.0088\n",
            "Epoch 50/100\n",
            "12/12 [==============================] - 0s 22ms/step - loss: 9.5041e-04 - val_loss: 0.0083\n",
            "Epoch 51/100\n",
            "12/12 [==============================] - 0s 21ms/step - loss: 9.0845e-04 - val_loss: 0.0083\n",
            "Epoch 52/100\n",
            "12/12 [==============================] - 0s 22ms/step - loss: 9.0356e-04 - val_loss: 0.0082\n",
            "Epoch 53/100\n",
            "12/12 [==============================] - 0s 20ms/step - loss: 8.4877e-04 - val_loss: 0.0083\n",
            "Epoch 54/100\n",
            "12/12 [==============================] - 0s 20ms/step - loss: 8.5279e-04 - val_loss: 0.0079\n",
            "Epoch 55/100\n",
            "12/12 [==============================] - 0s 21ms/step - loss: 8.2562e-04 - val_loss: 0.0080\n",
            "Epoch 56/100\n",
            "12/12 [==============================] - 0s 20ms/step - loss: 7.6756e-04 - val_loss: 0.0080\n",
            "Epoch 57/100\n",
            "12/12 [==============================] - 0s 21ms/step - loss: 8.2477e-04 - val_loss: 0.0080\n",
            "Epoch 58/100\n",
            "12/12 [==============================] - 0s 21ms/step - loss: 9.5645e-04 - val_loss: 0.0076\n",
            "Epoch 59/100\n",
            "12/12 [==============================] - 0s 20ms/step - loss: 8.9781e-04 - val_loss: 0.0076\n",
            "Epoch 60/100\n",
            "12/12 [==============================] - 0s 20ms/step - loss: 8.2804e-04 - val_loss: 0.0079\n",
            "Epoch 61/100\n",
            "12/12 [==============================] - 0s 21ms/step - loss: 9.2257e-04 - val_loss: 0.0075\n",
            "Epoch 62/100\n",
            "12/12 [==============================] - 0s 20ms/step - loss: 7.8981e-04 - val_loss: 0.0076\n",
            "Epoch 63/100\n",
            "12/12 [==============================] - 0s 21ms/step - loss: 7.7824e-04 - val_loss: 0.0074\n",
            "Epoch 64/100\n",
            "12/12 [==============================] - 0s 21ms/step - loss: 7.6714e-04 - val_loss: 0.0072\n",
            "Epoch 65/100\n",
            "12/12 [==============================] - 0s 22ms/step - loss: 7.3101e-04 - val_loss: 0.0071\n",
            "Epoch 66/100\n",
            "12/12 [==============================] - 0s 21ms/step - loss: 8.7265e-04 - val_loss: 0.0069\n",
            "Epoch 67/100\n",
            "12/12 [==============================] - 0s 20ms/step - loss: 7.6372e-04 - val_loss: 0.0071\n",
            "Epoch 68/100\n",
            "12/12 [==============================] - 0s 21ms/step - loss: 8.4009e-04 - val_loss: 0.0069\n",
            "Epoch 69/100\n",
            "12/12 [==============================] - 0s 20ms/step - loss: 7.7365e-04 - val_loss: 0.0071\n",
            "Epoch 70/100\n",
            "12/12 [==============================] - 0s 21ms/step - loss: 8.1472e-04 - val_loss: 0.0070\n",
            "Epoch 71/100\n",
            "12/12 [==============================] - 0s 20ms/step - loss: 7.5585e-04 - val_loss: 0.0073\n",
            "Epoch 72/100\n",
            "12/12 [==============================] - 0s 21ms/step - loss: 8.3935e-04 - val_loss: 0.0070\n",
            "Epoch 73/100\n",
            "12/12 [==============================] - 0s 20ms/step - loss: 8.0084e-04 - val_loss: 0.0067\n",
            "Epoch 74/100\n",
            "12/12 [==============================] - 0s 22ms/step - loss: 8.0044e-04 - val_loss: 0.0068\n",
            "Epoch 75/100\n",
            "12/12 [==============================] - 0s 20ms/step - loss: 7.8186e-04 - val_loss: 0.0067\n",
            "Epoch 76/100\n",
            "12/12 [==============================] - 0s 21ms/step - loss: 7.4734e-04 - val_loss: 0.0070\n",
            "Epoch 77/100\n",
            "12/12 [==============================] - 0s 22ms/step - loss: 7.7874e-04 - val_loss: 0.0067\n",
            "Epoch 78/100\n",
            "12/12 [==============================] - 0s 21ms/step - loss: 7.0573e-04 - val_loss: 0.0066\n",
            "Epoch 79/100\n",
            "12/12 [==============================] - 0s 21ms/step - loss: 7.1356e-04 - val_loss: 0.0065\n",
            "Epoch 80/100\n",
            "12/12 [==============================] - 0s 20ms/step - loss: 7.4058e-04 - val_loss: 0.0066\n",
            "Epoch 81/100\n",
            "12/12 [==============================] - 0s 20ms/step - loss: 6.7856e-04 - val_loss: 0.0068\n",
            "Epoch 82/100\n",
            "12/12 [==============================] - 0s 21ms/step - loss: 7.0277e-04 - val_loss: 0.0065\n",
            "Epoch 83/100\n",
            "12/12 [==============================] - 0s 20ms/step - loss: 7.4801e-04 - val_loss: 0.0061\n",
            "Epoch 84/100\n",
            "12/12 [==============================] - 0s 20ms/step - loss: 6.9005e-04 - val_loss: 0.0062\n",
            "Epoch 85/100\n",
            "12/12 [==============================] - 0s 21ms/step - loss: 7.2865e-04 - val_loss: 0.0062\n",
            "Epoch 86/100\n",
            "12/12 [==============================] - 0s 20ms/step - loss: 6.8585e-04 - val_loss: 0.0061\n",
            "Epoch 87/100\n",
            "12/12 [==============================] - 0s 20ms/step - loss: 6.8610e-04 - val_loss: 0.0062\n",
            "Epoch 88/100\n",
            "12/12 [==============================] - 0s 20ms/step - loss: 7.5656e-04 - val_loss: 0.0060\n",
            "Epoch 89/100\n",
            "12/12 [==============================] - 0s 20ms/step - loss: 6.0714e-04 - val_loss: 0.0062\n",
            "Epoch 90/100\n",
            "12/12 [==============================] - 0s 22ms/step - loss: 6.7088e-04 - val_loss: 0.0059\n",
            "Epoch 91/100\n",
            "12/12 [==============================] - 0s 20ms/step - loss: 7.0220e-04 - val_loss: 0.0059\n",
            "Epoch 92/100\n",
            "12/12 [==============================] - 0s 20ms/step - loss: 6.5244e-04 - val_loss: 0.0059\n",
            "Epoch 93/100\n",
            "12/12 [==============================] - 0s 20ms/step - loss: 5.9071e-04 - val_loss: 0.0057\n",
            "Epoch 94/100\n",
            "12/12 [==============================] - 0s 21ms/step - loss: 6.5981e-04 - val_loss: 0.0060\n",
            "Epoch 95/100\n",
            "12/12 [==============================] - 0s 22ms/step - loss: 6.0685e-04 - val_loss: 0.0056\n",
            "Epoch 96/100\n",
            "12/12 [==============================] - 0s 23ms/step - loss: 5.8705e-04 - val_loss: 0.0059\n",
            "Epoch 97/100\n",
            "12/12 [==============================] - 0s 19ms/step - loss: 6.0085e-04 - val_loss: 0.0056\n",
            "Epoch 98/100\n",
            "12/12 [==============================] - 0s 21ms/step - loss: 5.4884e-04 - val_loss: 0.0055\n",
            "Epoch 99/100\n",
            "12/12 [==============================] - 0s 22ms/step - loss: 5.8610e-04 - val_loss: 0.0054\n",
            "Epoch 100/100\n",
            "12/12 [==============================] - 0s 20ms/step - loss: 5.8675e-04 - val_loss: 0.0054\n"
          ],
          "name": "stdout"
        },
        {
          "output_type": "execute_result",
          "data": {
            "text/plain": [
              "<tensorflow.python.keras.callbacks.History at 0x7f713008f750>"
            ]
          },
          "metadata": {
            "tags": []
          },
          "execution_count": 45
        }
      ]
    },
    {
      "cell_type": "code",
      "metadata": {
        "id": "dOz5eQ3ME2xY"
      },
      "source": [
        ""
      ],
      "execution_count": null,
      "outputs": []
    },
    {
      "cell_type": "code",
      "metadata": {
        "id": "thERYcyi2YBM"
      },
      "source": [
        "### Lets Do the prediction and check performance metrics\n",
        "train_predict=model.predict(X_train)\n",
        "test_predict=model.predict(X_test)"
      ],
      "execution_count": 46,
      "outputs": []
    },
    {
      "cell_type": "code",
      "metadata": {
        "id": "331I5KN62fS7"
      },
      "source": [
        "##Transformback to original form\n",
        "train_predict=scaler.inverse_transform(train_predict)\n",
        "test_predict=scaler.inverse_transform(test_predict)"
      ],
      "execution_count": 47,
      "outputs": []
    },
    {
      "cell_type": "code",
      "metadata": {
        "colab": {
          "base_uri": "https://localhost:8080/"
        },
        "id": "G57lJZ9n2iRa",
        "outputId": "cd959a40-cb5e-4df5-928e-295b9b766e25"
      },
      "source": [
        "### Calculate RMSE performance metrics\n",
        "import math\n",
        "from sklearn.metrics import mean_squared_error\n",
        "math.sqrt(mean_squared_error(y_train,train_predict))"
      ],
      "execution_count": 48,
      "outputs": [
        {
          "output_type": "execute_result",
          "data": {
            "text/plain": [
              "17.70446143590243"
            ]
          },
          "metadata": {
            "tags": []
          },
          "execution_count": 48
        }
      ]
    },
    {
      "cell_type": "code",
      "metadata": {
        "colab": {
          "base_uri": "https://localhost:8080/"
        },
        "id": "PQ7fOP7T2qi-",
        "outputId": "56b82556-d0b6-46c0-d588-e30da2705143"
      },
      "source": [
        "### Test Data RMSE\n",
        "math.sqrt(mean_squared_error(ytest,test_predict))"
      ],
      "execution_count": 49,
      "outputs": [
        {
          "output_type": "execute_result",
          "data": {
            "text/plain": [
              "16.702076403353832"
            ]
          },
          "metadata": {
            "tags": []
          },
          "execution_count": 49
        }
      ]
    },
    {
      "cell_type": "code",
      "metadata": {
        "colab": {
          "base_uri": "https://localhost:8080/",
          "height": 553
        },
        "id": "0AhjmjAh2zVK",
        "outputId": "6f184c36-6deb-4bd3-b4d1-8df13a90cfcf"
      },
      "source": [
        "## Plotting \n",
        "# shift train predictions for plotting\n",
        "look_back=100\n",
        "trainPredictPlot = numpy.empty_like(stock_close_data)\n",
        "trainPredictPlot[:, :] = np.nan\n",
        "trainPredictPlot[look_back:len(train_predict)+look_back, :] = train_predict\n",
        "# shift test predictions for plotting\n",
        "testPredictPlot = numpy.empty_like(stock_close_data)\n",
        "testPredictPlot[:, :] = numpy.nan\n",
        "testPredictPlot[len(train_predict)+(look_back*2)+1:len(stock_close_data)-1, :] = test_predict\n",
        "\n",
        "# plot baseline and predictions\n",
        "plt.figure(figsize = (18,9))\n",
        "plt.plot(trainPredictPlot)\n",
        "plt.plot(testPredictPlot)\n",
        "plt.plot(scaler.inverse_transform(stock_close_data))\n",
        "plt.legend(['train_predict','test_predict','Actual'], loc='upper left')\n",
        "plt.title('Actual and Predication for Train and Test data')\n",
        "plt.show()"
      ],
      "execution_count": 50,
      "outputs": [
        {
          "output_type": "display_data",
          "data": {
            "image/png": "[encoded data removed]",
            "text/plain": [
              "<Figure size 1296x648 with 1 Axes>"
            ]
          },
          "metadata": {
            "tags": [],
            "needs_background": "light"
          }
        }
      ]
    },
    {
      "cell_type": "code",
      "metadata": {
        "colab": {
          "base_uri": "https://localhost:8080/"
        },
        "id": "09juzUwp3EDN",
        "outputId": "d76fe036-dfd2-4cf4-9be4-0a52777db96b"
      },
      "source": [
        "len(test_data)"
      ],
      "execution_count": 51,
      "outputs": [
        {
          "output_type": "execute_result",
          "data": {
            "text/plain": [
              "440"
            ]
          },
          "metadata": {
            "tags": []
          },
          "execution_count": 51
        }
      ]
    },
    {
      "cell_type": "code",
      "metadata": {
        "colab": {
          "base_uri": "https://localhost:8080/"
        },
        "id": "DBYODRGK3VTI",
        "outputId": "937e291c-269f-4af8-d684-d7b6e2c7ebda"
      },
      "source": [
        "x_input=test_data[340:].reshape(1,-1)\n",
        "x_input.shape"
      ],
      "execution_count": 52,
      "outputs": [
        {
          "output_type": "execute_result",
          "data": {
            "text/plain": [
              "(1, 100)"
            ]
          },
          "metadata": {
            "tags": []
          },
          "execution_count": 52
        }
      ]
    },
    {
      "cell_type": "code",
      "metadata": {
        "id": "kLWrSHX33fC9"
      },
      "source": [
        "temp_input=list(x_input)\n",
        "temp_input=temp_input[0].tolist()"
      ],
      "execution_count": 53,
      "outputs": []
    },
    {
      "cell_type": "code",
      "metadata": {
        "colab": {
          "base_uri": "https://localhost:8080/"
        },
        "id": "jx_chZY93j0O",
        "outputId": "a0191e3b-f2db-4136-ee16-a1d6e24698e8"
      },
      "source": [
        "# demonstrate prediction for next 10 days\n",
        "from numpy import array\n",
        "\n",
        "lst_output=[]\n",
        "n_steps=100\n",
        "i=0\n",
        "while(i<20):\n",
        "    \n",
        "    if(len(temp_input)>100):\n",
        "        #print(temp_input)\n",
        "        x_input=np.array(temp_input[1:])\n",
        "        print(\"{} day input {}\".format(i,x_input))\n",
        "        x_input=x_input.reshape(1,-1)\n",
        "        x_input = x_input.reshape((1, n_steps, 1))\n",
        "        #print(x_input)\n",
        "        yhat = model.predict(x_input, verbose=0)\n",
        "        print(\"{} day output {}\".format(i,yhat))\n",
        "        temp_input.extend(yhat[0].tolist())\n",
        "        temp_input=temp_input[1:]\n",
        "        #print(temp_input)\n",
        "        lst_output.extend(yhat.tolist())\n",
        "        i=i+1\n",
        "    else:\n",
        "        x_input = x_input.reshape((1, n_steps,1))\n",
        "        yhat = model.predict(x_input, verbose=0)\n",
        "        print(yhat[0])\n",
        "        temp_input.extend(yhat[0].tolist())\n",
        "        print(len(temp_input))\n",
        "        lst_output.extend(yhat.tolist())\n",
        "        i=i+1\n",
        "    \n",
        "\n",
        "print(lst_output)"
      ],
      "execution_count": 54,
      "outputs": [
        {
          "output_type": "stream",
          "text": [
            "[0.54767764]\n",
            "101\n",
            "1 day input [0.09988443 0.10021463 0.12068681 0.14066369 0.12993231 0.13703153\n",
            " 0.15156018 0.19910847 0.18226845 0.19118375 0.19844808 0.19729239\n",
            " 0.17351824 0.14330527 0.11622916 0.14792802 0.13637114 0.13818722\n",
            " 0.13818722 0.13587585 0.1218425  0.14247978 0.13571075 0.12993231\n",
            " 0.12894172 0.12283309 0.10962523 0.11325739 0.1216774  0.1307578\n",
            " 0.1213472  0.12679544 0.12052171 0.12877662 0.13224368 0.13505035\n",
            " 0.15717352 0.15651313 0.14644213 0.13571075 0.13290408 0.12762093\n",
            " 0.12233779 0.11870563 0.11589896 0.12431897 0.12811623 0.13323427\n",
            " 0.13769193 0.17814099 0.18160806 0.19762259 0.19894337 0.17599472\n",
            " 0.17450883 0.16674922 0.19316493 0.23823675 0.29024269 0.40515106\n",
            " 0.39854714 0.49628529 1.         0.81492488 0.75829619 0.87535083\n",
            " 0.87617632 0.78190523 0.67409609 0.78289582 0.90837048 0.94205052\n",
            " 0.8783226  0.96995212 0.94568268 0.88674261 0.92933796 0.92983325\n",
            " 0.90341753 0.8598316  0.92669638 0.89895988 0.90308734 0.86247317\n",
            " 0.82516097 0.79214132 0.71140829 0.75879148 0.72989929 0.67079412\n",
            " 0.6169721  0.51923394 0.56166419 0.54449397 0.53888063 0.67871884\n",
            " 0.64058115 0.58213637 0.57800892 0.54767764]\n",
            "1 day output [[0.5472021]]\n",
            "2 day input [0.10021463 0.12068681 0.14066369 0.12993231 0.13703153 0.15156018\n",
            " 0.19910847 0.18226845 0.19118375 0.19844808 0.19729239 0.17351824\n",
            " 0.14330527 0.11622916 0.14792802 0.13637114 0.13818722 0.13818722\n",
            " 0.13587585 0.1218425  0.14247978 0.13571075 0.12993231 0.12894172\n",
            " 0.12283309 0.10962523 0.11325739 0.1216774  0.1307578  0.1213472\n",
            " 0.12679544 0.12052171 0.12877662 0.13224368 0.13505035 0.15717352\n",
            " 0.15651313 0.14644213 0.13571075 0.13290408 0.12762093 0.12233779\n",
            " 0.11870563 0.11589896 0.12431897 0.12811623 0.13323427 0.13769193\n",
            " 0.17814099 0.18160806 0.19762259 0.19894337 0.17599472 0.17450883\n",
            " 0.16674922 0.19316493 0.23823675 0.29024269 0.40515106 0.39854714\n",
            " 0.49628529 1.         0.81492488 0.75829619 0.87535083 0.87617632\n",
            " 0.78190523 0.67409609 0.78289582 0.90837048 0.94205052 0.8783226\n",
            " 0.96995212 0.94568268 0.88674261 0.92933796 0.92983325 0.90341753\n",
            " 0.8598316  0.92669638 0.89895988 0.90308734 0.86247317 0.82516097\n",
            " 0.79214132 0.71140829 0.75879148 0.72989929 0.67079412 0.6169721\n",
            " 0.51923394 0.56166419 0.54449397 0.53888063 0.67871884 0.64058115\n",
            " 0.58213637 0.57800892 0.54767764 0.54720211]\n",
            "2 day output [[0.546427]]\n",
            "3 day input [0.12068681 0.14066369 0.12993231 0.13703153 0.15156018 0.19910847\n",
            " 0.18226845 0.19118375 0.19844808 0.19729239 0.17351824 0.14330527\n",
            " 0.11622916 0.14792802 0.13637114 0.13818722 0.13818722 0.13587585\n",
            " 0.1218425  0.14247978 0.13571075 0.12993231 0.12894172 0.12283309\n",
            " 0.10962523 0.11325739 0.1216774  0.1307578  0.1213472  0.12679544\n",
            " 0.12052171 0.12877662 0.13224368 0.13505035 0.15717352 0.15651313\n",
            " 0.14644213 0.13571075 0.13290408 0.12762093 0.12233779 0.11870563\n",
            " 0.11589896 0.12431897 0.12811623 0.13323427 0.13769193 0.17814099\n",
            " 0.18160806 0.19762259 0.19894337 0.17599472 0.17450883 0.16674922\n",
            " 0.19316493 0.23823675 0.29024269 0.40515106 0.39854714 0.49628529\n",
            " 1.         0.81492488 0.75829619 0.87535083 0.87617632 0.78190523\n",
            " 0.67409609 0.78289582 0.90837048 0.94205052 0.8783226  0.96995212\n",
            " 0.94568268 0.88674261 0.92933796 0.92983325 0.90341753 0.8598316\n",
            " 0.92669638 0.89895988 0.90308734 0.86247317 0.82516097 0.79214132\n",
            " 0.71140829 0.75879148 0.72989929 0.67079412 0.6169721  0.51923394\n",
            " 0.56166419 0.54449397 0.53888063 0.67871884 0.64058115 0.58213637\n",
            " 0.57800892 0.54767764 0.54720211 0.54642701]\n",
            "3 day output [[0.54484594]]\n",
            "4 day input [0.14066369 0.12993231 0.13703153 0.15156018 0.19910847 0.18226845\n",
            " 0.19118375 0.19844808 0.19729239 0.17351824 0.14330527 0.11622916\n",
            " 0.14792802 0.13637114 0.13818722 0.13818722 0.13587585 0.1218425\n",
            " 0.14247978 0.13571075 0.12993231 0.12894172 0.12283309 0.10962523\n",
            " 0.11325739 0.1216774  0.1307578  0.1213472  0.12679544 0.12052171\n",
            " 0.12877662 0.13224368 0.13505035 0.15717352 0.15651313 0.14644213\n",
            " 0.13571075 0.13290408 0.12762093 0.12233779 0.11870563 0.11589896\n",
            " 0.12431897 0.12811623 0.13323427 0.13769193 0.17814099 0.18160806\n",
            " 0.19762259 0.19894337 0.17599472 0.17450883 0.16674922 0.19316493\n",
            " 0.23823675 0.29024269 0.40515106 0.39854714 0.49628529 1.\n",
            " 0.81492488 0.75829619 0.87535083 0.87617632 0.78190523 0.67409609\n",
            " 0.78289582 0.90837048 0.94205052 0.8783226  0.96995212 0.94568268\n",
            " 0.88674261 0.92933796 0.92983325 0.90341753 0.8598316  0.92669638\n",
            " 0.89895988 0.90308734 0.86247317 0.82516097 0.79214132 0.71140829\n",
            " 0.75879148 0.72989929 0.67079412 0.6169721  0.51923394 0.56166419\n",
            " 0.54449397 0.53888063 0.67871884 0.64058115 0.58213637 0.57800892\n",
            " 0.54767764 0.54720211 0.54642701 0.54484594]\n",
            "4 day output [[0.5424354]]\n",
            "5 day input [0.12993231 0.13703153 0.15156018 0.19910847 0.18226845 0.19118375\n",
            " 0.19844808 0.19729239 0.17351824 0.14330527 0.11622916 0.14792802\n",
            " 0.13637114 0.13818722 0.13818722 0.13587585 0.1218425  0.14247978\n",
            " 0.13571075 0.12993231 0.12894172 0.12283309 0.10962523 0.11325739\n",
            " 0.1216774  0.1307578  0.1213472  0.12679544 0.12052171 0.12877662\n",
            " 0.13224368 0.13505035 0.15717352 0.15651313 0.14644213 0.13571075\n",
            " 0.13290408 0.12762093 0.12233779 0.11870563 0.11589896 0.12431897\n",
            " 0.12811623 0.13323427 0.13769193 0.17814099 0.18160806 0.19762259\n",
            " 0.19894337 0.17599472 0.17450883 0.16674922 0.19316493 0.23823675\n",
            " 0.29024269 0.40515106 0.39854714 0.49628529 1.         0.81492488\n",
            " 0.75829619 0.87535083 0.87617632 0.78190523 0.67409609 0.78289582\n",
            " 0.90837048 0.94205052 0.8783226  0.96995212 0.94568268 0.88674261\n",
            " 0.92933796 0.92983325 0.90341753 0.8598316  0.92669638 0.89895988\n",
            " 0.90308734 0.86247317 0.82516097 0.79214132 0.71140829 0.75879148\n",
            " 0.72989929 0.67079412 0.6169721  0.51923394 0.56166419 0.54449397\n",
            " 0.53888063 0.67871884 0.64058115 0.58213637 0.57800892 0.54767764\n",
            " 0.54720211 0.54642701 0.54484594 0.54243541]\n",
            "5 day output [[0.53935933]]\n",
            "6 day input [0.13703153 0.15156018 0.19910847 0.18226845 0.19118375 0.19844808\n",
            " 0.19729239 0.17351824 0.14330527 0.11622916 0.14792802 0.13637114\n",
            " 0.13818722 0.13818722 0.13587585 0.1218425  0.14247978 0.13571075\n",
            " 0.12993231 0.12894172 0.12283309 0.10962523 0.11325739 0.1216774\n",
            " 0.1307578  0.1213472  0.12679544 0.12052171 0.12877662 0.13224368\n",
            " 0.13505035 0.15717352 0.15651313 0.14644213 0.13571075 0.13290408\n",
            " 0.12762093 0.12233779 0.11870563 0.11589896 0.12431897 0.12811623\n",
            " 0.13323427 0.13769193 0.17814099 0.18160806 0.19762259 0.19894337\n",
            " 0.17599472 0.17450883 0.16674922 0.19316493 0.23823675 0.29024269\n",
            " 0.40515106 0.39854714 0.49628529 1.         0.81492488 0.75829619\n",
            " 0.87535083 0.87617632 0.78190523 0.67409609 0.78289582 0.90837048\n",
            " 0.94205052 0.8783226  0.96995212 0.94568268 0.88674261 0.92933796\n",
            " 0.92983325 0.90341753 0.8598316  0.92669638 0.89895988 0.90308734\n",
            " 0.86247317 0.82516097 0.79214132 0.71140829 0.75879148 0.72989929\n",
            " 0.67079412 0.6169721  0.51923394 0.56166419 0.54449397 0.53888063\n",
            " 0.67871884 0.64058115 0.58213637 0.57800892 0.54767764 0.54720211\n",
            " 0.54642701 0.54484594 0.54243541 0.53935933]\n",
            "6 day output [[0.5358128]]\n",
            "7 day input [0.15156018 0.19910847 0.18226845 0.19118375 0.19844808 0.19729239\n",
            " 0.17351824 0.14330527 0.11622916 0.14792802 0.13637114 0.13818722\n",
            " 0.13818722 0.13587585 0.1218425  0.14247978 0.13571075 0.12993231\n",
            " 0.12894172 0.12283309 0.10962523 0.11325739 0.1216774  0.1307578\n",
            " 0.1213472  0.12679544 0.12052171 0.12877662 0.13224368 0.13505035\n",
            " 0.15717352 0.15651313 0.14644213 0.13571075 0.13290408 0.12762093\n",
            " 0.12233779 0.11870563 0.11589896 0.12431897 0.12811623 0.13323427\n",
            " 0.13769193 0.17814099 0.18160806 0.19762259 0.19894337 0.17599472\n",
            " 0.17450883 0.16674922 0.19316493 0.23823675 0.29024269 0.40515106\n",
            " 0.39854714 0.49628529 1.         0.81492488 0.75829619 0.87535083\n",
            " 0.87617632 0.78190523 0.67409609 0.78289582 0.90837048 0.94205052\n",
            " 0.8783226  0.96995212 0.94568268 0.88674261 0.92933796 0.92983325\n",
            " 0.90341753 0.8598316  0.92669638 0.89895988 0.90308734 0.86247317\n",
            " 0.82516097 0.79214132 0.71140829 0.75879148 0.72989929 0.67079412\n",
            " 0.6169721  0.51923394 0.56166419 0.54449397 0.53888063 0.67871884\n",
            " 0.64058115 0.58213637 0.57800892 0.54767764 0.54720211 0.54642701\n",
            " 0.54484594 0.54243541 0.53935933 0.5358128 ]\n",
            "7 day output [[0.53195494]]\n",
            "8 day input [0.19910847 0.18226845 0.19118375 0.19844808 0.19729239 0.17351824\n",
            " 0.14330527 0.11622916 0.14792802 0.13637114 0.13818722 0.13818722\n",
            " 0.13587585 0.1218425  0.14247978 0.13571075 0.12993231 0.12894172\n",
            " 0.12283309 0.10962523 0.11325739 0.1216774  0.1307578  0.1213472\n",
            " 0.12679544 0.12052171 0.12877662 0.13224368 0.13505035 0.15717352\n",
            " 0.15651313 0.14644213 0.13571075 0.13290408 0.12762093 0.12233779\n",
            " 0.11870563 0.11589896 0.12431897 0.12811623 0.13323427 0.13769193\n",
            " 0.17814099 0.18160806 0.19762259 0.19894337 0.17599472 0.17450883\n",
            " 0.16674922 0.19316493 0.23823675 0.29024269 0.40515106 0.39854714\n",
            " 0.49628529 1.         0.81492488 0.75829619 0.87535083 0.87617632\n",
            " 0.78190523 0.67409609 0.78289582 0.90837048 0.94205052 0.8783226\n",
            " 0.96995212 0.94568268 0.88674261 0.92933796 0.92983325 0.90341753\n",
            " 0.8598316  0.92669638 0.89895988 0.90308734 0.86247317 0.82516097\n",
            " 0.79214132 0.71140829 0.75879148 0.72989929 0.67079412 0.6169721\n",
            " 0.51923394 0.56166419 0.54449397 0.53888063 0.67871884 0.64058115\n",
            " 0.58213637 0.57800892 0.54767764 0.54720211 0.54642701 0.54484594\n",
            " 0.54243541 0.53935933 0.5358128  0.53195494]\n",
            "8 day output [[0.5278928]]\n",
            "9 day input [0.18226845 0.19118375 0.19844808 0.19729239 0.17351824 0.14330527\n",
            " 0.11622916 0.14792802 0.13637114 0.13818722 0.13818722 0.13587585\n",
            " 0.1218425  0.14247978 0.13571075 0.12993231 0.12894172 0.12283309\n",
            " 0.10962523 0.11325739 0.1216774  0.1307578  0.1213472  0.12679544\n",
            " 0.12052171 0.12877662 0.13224368 0.13505035 0.15717352 0.15651313\n",
            " 0.14644213 0.13571075 0.13290408 0.12762093 0.12233779 0.11870563\n",
            " 0.11589896 0.12431897 0.12811623 0.13323427 0.13769193 0.17814099\n",
            " 0.18160806 0.19762259 0.19894337 0.17599472 0.17450883 0.16674922\n",
            " 0.19316493 0.23823675 0.29024269 0.40515106 0.39854714 0.49628529\n",
            " 1.         0.81492488 0.75829619 0.87535083 0.87617632 0.78190523\n",
            " 0.67409609 0.78289582 0.90837048 0.94205052 0.8783226  0.96995212\n",
            " 0.94568268 0.88674261 0.92933796 0.92983325 0.90341753 0.8598316\n",
            " 0.92669638 0.89895988 0.90308734 0.86247317 0.82516097 0.79214132\n",
            " 0.71140829 0.75879148 0.72989929 0.67079412 0.6169721  0.51923394\n",
            " 0.56166419 0.54449397 0.53888063 0.67871884 0.64058115 0.58213637\n",
            " 0.57800892 0.54767764 0.54720211 0.54642701 0.54484594 0.54243541\n",
            " 0.53935933 0.5358128  0.53195494 0.52789283]\n",
            "9 day output [[0.52368665]]\n",
            "10 day input [0.19118375 0.19844808 0.19729239 0.17351824 0.14330527 0.11622916\n",
            " 0.14792802 0.13637114 0.13818722 0.13818722 0.13587585 0.1218425\n",
            " 0.14247978 0.13571075 0.12993231 0.12894172 0.12283309 0.10962523\n",
            " 0.11325739 0.1216774  0.1307578  0.1213472  0.12679544 0.12052171\n",
            " 0.12877662 0.13224368 0.13505035 0.15717352 0.15651313 0.14644213\n",
            " 0.13571075 0.13290408 0.12762093 0.12233779 0.11870563 0.11589896\n",
            " 0.12431897 0.12811623 0.13323427 0.13769193 0.17814099 0.18160806\n",
            " 0.19762259 0.19894337 0.17599472 0.17450883 0.16674922 0.19316493\n",
            " 0.23823675 0.29024269 0.40515106 0.39854714 0.49628529 1.\n",
            " 0.81492488 0.75829619 0.87535083 0.87617632 0.78190523 0.67409609\n",
            " 0.78289582 0.90837048 0.94205052 0.8783226  0.96995212 0.94568268\n",
            " 0.88674261 0.92933796 0.92983325 0.90341753 0.8598316  0.92669638\n",
            " 0.89895988 0.90308734 0.86247317 0.82516097 0.79214132 0.71140829\n",
            " 0.75879148 0.72989929 0.67079412 0.6169721  0.51923394 0.56166419\n",
            " 0.54449397 0.53888063 0.67871884 0.64058115 0.58213637 0.57800892\n",
            " 0.54767764 0.54720211 0.54642701 0.54484594 0.54243541 0.53935933\n",
            " 0.5358128  0.53195494 0.52789283 0.52368665]\n",
            "10 day output [[0.5193642]]\n",
            "11 day input [0.19844808 0.19729239 0.17351824 0.14330527 0.11622916 0.14792802\n",
            " 0.13637114 0.13818722 0.13818722 0.13587585 0.1218425  0.14247978\n",
            " 0.13571075 0.12993231 0.12894172 0.12283309 0.10962523 0.11325739\n",
            " 0.1216774  0.1307578  0.1213472  0.12679544 0.12052171 0.12877662\n",
            " 0.13224368 0.13505035 0.15717352 0.15651313 0.14644213 0.13571075\n",
            " 0.13290408 0.12762093 0.12233779 0.11870563 0.11589896 0.12431897\n",
            " 0.12811623 0.13323427 0.13769193 0.17814099 0.18160806 0.19762259\n",
            " 0.19894337 0.17599472 0.17450883 0.16674922 0.19316493 0.23823675\n",
            " 0.29024269 0.40515106 0.39854714 0.49628529 1.         0.81492488\n",
            " 0.75829619 0.87535083 0.87617632 0.78190523 0.67409609 0.78289582\n",
            " 0.90837048 0.94205052 0.8783226  0.96995212 0.94568268 0.88674261\n",
            " 0.92933796 0.92983325 0.90341753 0.8598316  0.92669638 0.89895988\n",
            " 0.90308734 0.86247317 0.82516097 0.79214132 0.71140829 0.75879148\n",
            " 0.72989929 0.67079412 0.6169721  0.51923394 0.56166419 0.54449397\n",
            " 0.53888063 0.67871884 0.64058115 0.58213637 0.57800892 0.54767764\n",
            " 0.54720211 0.54642701 0.54484594 0.54243541 0.53935933 0.5358128\n",
            " 0.53195494 0.52789283 0.52368665 0.51936418]\n",
            "11 day output [[0.51493436]]\n",
            "12 day input [0.19729239 0.17351824 0.14330527 0.11622916 0.14792802 0.13637114\n",
            " 0.13818722 0.13818722 0.13587585 0.1218425  0.14247978 0.13571075\n",
            " 0.12993231 0.12894172 0.12283309 0.10962523 0.11325739 0.1216774\n",
            " 0.1307578  0.1213472  0.12679544 0.12052171 0.12877662 0.13224368\n",
            " 0.13505035 0.15717352 0.15651313 0.14644213 0.13571075 0.13290408\n",
            " 0.12762093 0.12233779 0.11870563 0.11589896 0.12431897 0.12811623\n",
            " 0.13323427 0.13769193 0.17814099 0.18160806 0.19762259 0.19894337\n",
            " 0.17599472 0.17450883 0.16674922 0.19316493 0.23823675 0.29024269\n",
            " 0.40515106 0.39854714 0.49628529 1.         0.81492488 0.75829619\n",
            " 0.87535083 0.87617632 0.78190523 0.67409609 0.78289582 0.90837048\n",
            " 0.94205052 0.8783226  0.96995212 0.94568268 0.88674261 0.92933796\n",
            " 0.92983325 0.90341753 0.8598316  0.92669638 0.89895988 0.90308734\n",
            " 0.86247317 0.82516097 0.79214132 0.71140829 0.75879148 0.72989929\n",
            " 0.67079412 0.6169721  0.51923394 0.56166419 0.54449397 0.53888063\n",
            " 0.67871884 0.64058115 0.58213637 0.57800892 0.54767764 0.54720211\n",
            " 0.54642701 0.54484594 0.54243541 0.53935933 0.5358128  0.53195494\n",
            " 0.52789283 0.52368665 0.51936418 0.51493436]\n",
            "12 day output [[0.5103974]]\n",
            "13 day input [0.17351824 0.14330527 0.11622916 0.14792802 0.13637114 0.13818722\n",
            " 0.13818722 0.13587585 0.1218425  0.14247978 0.13571075 0.12993231\n",
            " 0.12894172 0.12283309 0.10962523 0.11325739 0.1216774  0.1307578\n",
            " 0.1213472  0.12679544 0.12052171 0.12877662 0.13224368 0.13505035\n",
            " 0.15717352 0.15651313 0.14644213 0.13571075 0.13290408 0.12762093\n",
            " 0.12233779 0.11870563 0.11589896 0.12431897 0.12811623 0.13323427\n",
            " 0.13769193 0.17814099 0.18160806 0.19762259 0.19894337 0.17599472\n",
            " 0.17450883 0.16674922 0.19316493 0.23823675 0.29024269 0.40515106\n",
            " 0.39854714 0.49628529 1.         0.81492488 0.75829619 0.87535083\n",
            " 0.87617632 0.78190523 0.67409609 0.78289582 0.90837048 0.94205052\n",
            " 0.8783226  0.96995212 0.94568268 0.88674261 0.92933796 0.92983325\n",
            " 0.90341753 0.8598316  0.92669638 0.89895988 0.90308734 0.86247317\n",
            " 0.82516097 0.79214132 0.71140829 0.75879148 0.72989929 0.67079412\n",
            " 0.6169721  0.51923394 0.56166419 0.54449397 0.53888063 0.67871884\n",
            " 0.64058115 0.58213637 0.57800892 0.54767764 0.54720211 0.54642701\n",
            " 0.54484594 0.54243541 0.53935933 0.5358128  0.53195494 0.52789283\n",
            " 0.52368665 0.51936418 0.51493436 0.51039737]\n",
            "13 day output [[0.5057517]]\n",
            "14 day input [0.14330527 0.11622916 0.14792802 0.13637114 0.13818722 0.13818722\n",
            " 0.13587585 0.1218425  0.14247978 0.13571075 0.12993231 0.12894172\n",
            " 0.12283309 0.10962523 0.11325739 0.1216774  0.1307578  0.1213472\n",
            " 0.12679544 0.12052171 0.12877662 0.13224368 0.13505035 0.15717352\n",
            " 0.15651313 0.14644213 0.13571075 0.13290408 0.12762093 0.12233779\n",
            " 0.11870563 0.11589896 0.12431897 0.12811623 0.13323427 0.13769193\n",
            " 0.17814099 0.18160806 0.19762259 0.19894337 0.17599472 0.17450883\n",
            " 0.16674922 0.19316493 0.23823675 0.29024269 0.40515106 0.39854714\n",
            " 0.49628529 1.         0.81492488 0.75829619 0.87535083 0.87617632\n",
            " 0.78190523 0.67409609 0.78289582 0.90837048 0.94205052 0.8783226\n",
            " 0.96995212 0.94568268 0.88674261 0.92933796 0.92983325 0.90341753\n",
            " 0.8598316  0.92669638 0.89895988 0.90308734 0.86247317 0.82516097\n",
            " 0.79214132 0.71140829 0.75879148 0.72989929 0.67079412 0.6169721\n",
            " 0.51923394 0.56166419 0.54449397 0.53888063 0.67871884 0.64058115\n",
            " 0.58213637 0.57800892 0.54767764 0.54720211 0.54642701 0.54484594\n",
            " 0.54243541 0.53935933 0.5358128  0.53195494 0.52789283 0.52368665\n",
            " 0.51936418 0.51493436 0.51039737 0.50575173]\n",
            "14 day output [[0.5009973]]\n",
            "15 day input [0.11622916 0.14792802 0.13637114 0.13818722 0.13818722 0.13587585\n",
            " 0.1218425  0.14247978 0.13571075 0.12993231 0.12894172 0.12283309\n",
            " 0.10962523 0.11325739 0.1216774  0.1307578  0.1213472  0.12679544\n",
            " 0.12052171 0.12877662 0.13224368 0.13505035 0.15717352 0.15651313\n",
            " 0.14644213 0.13571075 0.13290408 0.12762093 0.12233779 0.11870563\n",
            " 0.11589896 0.12431897 0.12811623 0.13323427 0.13769193 0.17814099\n",
            " 0.18160806 0.19762259 0.19894337 0.17599472 0.17450883 0.16674922\n",
            " 0.19316493 0.23823675 0.29024269 0.40515106 0.39854714 0.49628529\n",
            " 1.         0.81492488 0.75829619 0.87535083 0.87617632 0.78190523\n",
            " 0.67409609 0.78289582 0.90837048 0.94205052 0.8783226  0.96995212\n",
            " 0.94568268 0.88674261 0.92933796 0.92983325 0.90341753 0.8598316\n",
            " 0.92669638 0.89895988 0.90308734 0.86247317 0.82516097 0.79214132\n",
            " 0.71140829 0.75879148 0.72989929 0.67079412 0.6169721  0.51923394\n",
            " 0.56166419 0.54449397 0.53888063 0.67871884 0.64058115 0.58213637\n",
            " 0.57800892 0.54767764 0.54720211 0.54642701 0.54484594 0.54243541\n",
            " 0.53935933 0.5358128  0.53195494 0.52789283 0.52368665 0.51936418\n",
            " 0.51493436 0.51039737 0.50575173 0.5009973 ]\n",
            "15 day output [[0.49613687]]\n",
            "16 day input [0.14792802 0.13637114 0.13818722 0.13818722 0.13587585 0.1218425\n",
            " 0.14247978 0.13571075 0.12993231 0.12894172 0.12283309 0.10962523\n",
            " 0.11325739 0.1216774  0.1307578  0.1213472  0.12679544 0.12052171\n",
            " 0.12877662 0.13224368 0.13505035 0.15717352 0.15651313 0.14644213\n",
            " 0.13571075 0.13290408 0.12762093 0.12233779 0.11870563 0.11589896\n",
            " 0.12431897 0.12811623 0.13323427 0.13769193 0.17814099 0.18160806\n",
            " 0.19762259 0.19894337 0.17599472 0.17450883 0.16674922 0.19316493\n",
            " 0.23823675 0.29024269 0.40515106 0.39854714 0.49628529 1.\n",
            " 0.81492488 0.75829619 0.87535083 0.87617632 0.78190523 0.67409609\n",
            " 0.78289582 0.90837048 0.94205052 0.8783226  0.96995212 0.94568268\n",
            " 0.88674261 0.92933796 0.92983325 0.90341753 0.8598316  0.92669638\n",
            " 0.89895988 0.90308734 0.86247317 0.82516097 0.79214132 0.71140829\n",
            " 0.75879148 0.72989929 0.67079412 0.6169721  0.51923394 0.56166419\n",
            " 0.54449397 0.53888063 0.67871884 0.64058115 0.58213637 0.57800892\n",
            " 0.54767764 0.54720211 0.54642701 0.54484594 0.54243541 0.53935933\n",
            " 0.5358128  0.53195494 0.52789283 0.52368665 0.51936418 0.51493436\n",
            " 0.51039737 0.50575173 0.5009973  0.49613687]\n",
            "16 day output [[0.49117637]]\n",
            "17 day input [0.13637114 0.13818722 0.13818722 0.13587585 0.1218425  0.14247978\n",
            " 0.13571075 0.12993231 0.12894172 0.12283309 0.10962523 0.11325739\n",
            " 0.1216774  0.1307578  0.1213472  0.12679544 0.12052171 0.12877662\n",
            " 0.13224368 0.13505035 0.15717352 0.15651313 0.14644213 0.13571075\n",
            " 0.13290408 0.12762093 0.12233779 0.11870563 0.11589896 0.12431897\n",
            " 0.12811623 0.13323427 0.13769193 0.17814099 0.18160806 0.19762259\n",
            " 0.19894337 0.17599472 0.17450883 0.16674922 0.19316493 0.23823675\n",
            " 0.29024269 0.40515106 0.39854714 0.49628529 1.         0.81492488\n",
            " 0.75829619 0.87535083 0.87617632 0.78190523 0.67409609 0.78289582\n",
            " 0.90837048 0.94205052 0.8783226  0.96995212 0.94568268 0.88674261\n",
            " 0.92933796 0.92983325 0.90341753 0.8598316  0.92669638 0.89895988\n",
            " 0.90308734 0.86247317 0.82516097 0.79214132 0.71140829 0.75879148\n",
            " 0.72989929 0.67079412 0.6169721  0.51923394 0.56166419 0.54449397\n",
            " 0.53888063 0.67871884 0.64058115 0.58213637 0.57800892 0.54767764\n",
            " 0.54720211 0.54642701 0.54484594 0.54243541 0.53935933 0.5358128\n",
            " 0.53195494 0.52789283 0.52368665 0.51936418 0.51493436 0.51039737\n",
            " 0.50575173 0.5009973  0.49613687 0.49117637]\n",
            "17 day output [[0.4861242]]\n",
            "18 day input [0.13818722 0.13818722 0.13587585 0.1218425  0.14247978 0.13571075\n",
            " 0.12993231 0.12894172 0.12283309 0.10962523 0.11325739 0.1216774\n",
            " 0.1307578  0.1213472  0.12679544 0.12052171 0.12877662 0.13224368\n",
            " 0.13505035 0.15717352 0.15651313 0.14644213 0.13571075 0.13290408\n",
            " 0.12762093 0.12233779 0.11870563 0.11589896 0.12431897 0.12811623\n",
            " 0.13323427 0.13769193 0.17814099 0.18160806 0.19762259 0.19894337\n",
            " 0.17599472 0.17450883 0.16674922 0.19316493 0.23823675 0.29024269\n",
            " 0.40515106 0.39854714 0.49628529 1.         0.81492488 0.75829619\n",
            " 0.87535083 0.87617632 0.78190523 0.67409609 0.78289582 0.90837048\n",
            " 0.94205052 0.8783226  0.96995212 0.94568268 0.88674261 0.92933796\n",
            " 0.92983325 0.90341753 0.8598316  0.92669638 0.89895988 0.90308734\n",
            " 0.86247317 0.82516097 0.79214132 0.71140829 0.75879148 0.72989929\n",
            " 0.67079412 0.6169721  0.51923394 0.56166419 0.54449397 0.53888063\n",
            " 0.67871884 0.64058115 0.58213637 0.57800892 0.54767764 0.54720211\n",
            " 0.54642701 0.54484594 0.54243541 0.53935933 0.5358128  0.53195494\n",
            " 0.52789283 0.52368665 0.51936418 0.51493436 0.51039737 0.50575173\n",
            " 0.5009973  0.49613687 0.49117637 0.48612419]\n",
            "18 day output [[0.48099044]]\n",
            "19 day input [0.13818722 0.13587585 0.1218425  0.14247978 0.13571075 0.12993231\n",
            " 0.12894172 0.12283309 0.10962523 0.11325739 0.1216774  0.1307578\n",
            " 0.1213472  0.12679544 0.12052171 0.12877662 0.13224368 0.13505035\n",
            " 0.15717352 0.15651313 0.14644213 0.13571075 0.13290408 0.12762093\n",
            " 0.12233779 0.11870563 0.11589896 0.12431897 0.12811623 0.13323427\n",
            " 0.13769193 0.17814099 0.18160806 0.19762259 0.19894337 0.17599472\n",
            " 0.17450883 0.16674922 0.19316493 0.23823675 0.29024269 0.40515106\n",
            " 0.39854714 0.49628529 1.         0.81492488 0.75829619 0.87535083\n",
            " 0.87617632 0.78190523 0.67409609 0.78289582 0.90837048 0.94205052\n",
            " 0.8783226  0.96995212 0.94568268 0.88674261 0.92933796 0.92983325\n",
            " 0.90341753 0.8598316  0.92669638 0.89895988 0.90308734 0.86247317\n",
            " 0.82516097 0.79214132 0.71140829 0.75879148 0.72989929 0.67079412\n",
            " 0.6169721  0.51923394 0.56166419 0.54449397 0.53888063 0.67871884\n",
            " 0.64058115 0.58213637 0.57800892 0.54767764 0.54720211 0.54642701\n",
            " 0.54484594 0.54243541 0.53935933 0.5358128  0.53195494 0.52789283\n",
            " 0.52368665 0.51936418 0.51493436 0.51039737 0.50575173 0.5009973\n",
            " 0.49613687 0.49117637 0.48612419 0.48099044]\n",
            "19 day output [[0.4757863]]\n",
            "[[0.5476776361465454], [0.5472021102905273], [0.5464270114898682], [0.5448459386825562], [0.5424354076385498], [0.5393593311309814], [0.5358127951622009], [0.5319549441337585], [0.5278928279876709], [0.5236866474151611], [0.5193641781806946], [0.5149343609809875], [0.5103973746299744], [0.5057517290115356], [0.5009973049163818], [0.496136873960495], [0.4911763668060303], [0.486124187707901], [0.4809904396533966], [0.4757862985134125]]\n"
          ],
          "name": "stdout"
        }
      ]
    },
    {
      "cell_type": "code",
      "metadata": {
        "id": "an-gOPYp36Nn"
      },
      "source": [
        "day_new=np.arange(1,101)\n",
        "day_pred=np.arange(101,121)"
      ],
      "execution_count": 55,
      "outputs": []
    },
    {
      "cell_type": "code",
      "metadata": {
        "id": "pY9J6HNg4c8X"
      },
      "source": [
        "import matplotlib.pyplot as plt"
      ],
      "execution_count": 56,
      "outputs": []
    },
    {
      "cell_type": "code",
      "metadata": {
        "colab": {
          "base_uri": "https://localhost:8080/"
        },
        "id": "OWntfJkl4fVR",
        "outputId": "25f69af3-6746-4d7c-9904-f1cc658d36c0"
      },
      "source": [
        "len(stock_close_data)"
      ],
      "execution_count": 57,
      "outputs": [
        {
          "output_type": "execute_result",
          "data": {
            "text/plain": [
              "1257"
            ]
          },
          "metadata": {
            "tags": []
          },
          "execution_count": 57
        }
      ]
    },
    {
      "cell_type": "code",
      "metadata": {
        "colab": {
          "base_uri": "https://localhost:8080/",
          "height": 294
        },
        "id": "1-xKff4S4hJM",
        "outputId": "6f031b90-90ab-4cf3-8975-93da42c716e4"
      },
      "source": [
        "plt.plot(day_new,scaler.inverse_transform(stock_close_data[1157:]))\n",
        "plt.plot(day_pred,scaler.inverse_transform(lst_output))\n",
        "plt.title('AMC close stock for next_20_days pred')\n",
        "plt.ylabel('clsoe stock price $ ')\n",
        "plt.legend(['Real','Prediction'], loc='upper left')\n",
        "plt.xlabel('Days')\n",
        "plt.show()"
      ],
      "execution_count": 59,
      "outputs": [
        {
          "output_type": "display_data",
          "data": {
            "image/png": "[encoded data removed]",
            "text/plain": [
              "<Figure size 432x288 with 1 Axes>"
            ]
          },
          "metadata": {
            "tags": [],
            "needs_background": "light"
          }
        }
      ]
    }
  ]
}